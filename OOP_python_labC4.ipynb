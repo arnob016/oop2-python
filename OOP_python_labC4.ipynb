{
  "nbformat": 4,
  "nbformat_minor": 0,
  "metadata": {
    "colab": {
      "name": "OOP_python_labC4.ipynb",
      "provenance": [],
      "authorship_tag": "ABX9TyMJkrW0wD4xy3CQOxaMYuew",
      "include_colab_link": true
    },
    "kernelspec": {
      "name": "python3",
      "display_name": "Python 3"
    },
    "language_info": {
      "name": "python"
    }
  },
  "cells": [
    {
      "cell_type": "markdown",
      "metadata": {
        "id": "view-in-github",
        "colab_type": "text"
      },
      "source": [
        "<a href=\"https://colab.research.google.com/github/biplobsd/oop2-python/blob/main/OOP_python_labC4.ipynb\" target=\"_parent\"><img src=\"https://colab.research.google.com/assets/colab-badge.svg\" alt=\"Open In Colab\"/></a>"
      ]
    },
    {
      "cell_type": "markdown",
      "source": [
        "## Input list"
      ],
      "metadata": {
        "id": "kDjMfibqfSRr"
      }
    },
    {
      "cell_type": "code",
      "source": [
        "a = ['A', 'B', 'C']\n",
        "b = ['D', 'E', 'E']"
      ],
      "metadata": {
        "id": "JsEJ71jBc6vr"
      },
      "execution_count": null,
      "outputs": []
    },
    {
      "cell_type": "markdown",
      "source": [
        "## Get length from list"
      ],
      "metadata": {
        "id": "hgpviR1Aja3z"
      }
    },
    {
      "cell_type": "code",
      "source": [
        "len(a), len(b)"
      ],
      "metadata": {
        "colab": {
          "base_uri": "https://localhost:8080/"
        },
        "id": "UyVmE-UVjgZ9",
        "outputId": "33609f11-6d81-41cd-d956-03e718854e7b"
      },
      "execution_count": null,
      "outputs": [
        {
          "output_type": "execute_result",
          "data": {
            "text/plain": [
              "(3, 3)"
            ]
          },
          "metadata": {},
          "execution_count": 38
        }
      ]
    },
    {
      "cell_type": "markdown",
      "source": [
        "## Joining list using append, extend, +"
      ],
      "metadata": {
        "id": "q99yaDa0fVez"
      }
    },
    {
      "cell_type": "code",
      "execution_count": null,
      "metadata": {
        "colab": {
          "base_uri": "https://localhost:8080/"
        },
        "id": "WHzeMO8RcTrI",
        "outputId": "d2fb1de7-4263-40a1-d14f-269cbe3d7800"
      },
      "outputs": [
        {
          "output_type": "stream",
          "name": "stdout",
          "text": [
            "A B C D E E\n"
          ]
        }
      ],
      "source": [
        "o = a\n",
        "o.extend(b)\n",
        "print(*o)"
      ]
    },
    {
      "cell_type": "code",
      "source": [
        "m=a\n",
        "for item in b:\n",
        "  m.append(item)\n",
        "print(*m)"
      ],
      "metadata": {
        "colab": {
          "base_uri": "https://localhost:8080/"
        },
        "id": "4T55Duwgce5d",
        "outputId": "052674ff-1580-4873-ec02-36fe3fb5801f"
      },
      "execution_count": null,
      "outputs": [
        {
          "output_type": "stream",
          "name": "stdout",
          "text": [
            "A B C D E E D E E\n"
          ]
        }
      ]
    },
    {
      "cell_type": "code",
      "source": [
        "print(*(a+b))"
      ],
      "metadata": {
        "colab": {
          "base_uri": "https://localhost:8080/"
        },
        "id": "8-0Z_Rejfcgi",
        "outputId": "8e1ca242-75da-44ce-adf6-65249491c313"
      },
      "execution_count": null,
      "outputs": [
        {
          "output_type": "stream",
          "name": "stdout",
          "text": [
            "A B C D E E D E E D E E\n"
          ]
        }
      ]
    },
    {
      "cell_type": "markdown",
      "source": [
        "## Generator yield item"
      ],
      "metadata": {
        "id": "9s_jW1CNfnaA"
      }
    },
    {
      "cell_type": "code",
      "source": [
        "def listG(p):\n",
        "  print(*ll(p))\n",
        "\n",
        "def ll(p):\n",
        "  for o in range(p):\n",
        "    yield o*'d'\n",
        "\n",
        "listG(10)"
      ],
      "metadata": {
        "colab": {
          "base_uri": "https://localhost:8080/"
        },
        "id": "ppCQi_D6c0Wf",
        "outputId": "3eb26f84-dac4-4d1c-b680-4389ffe6d368"
      },
      "execution_count": null,
      "outputs": [
        {
          "output_type": "stream",
          "name": "stdout",
          "text": [
            " d dd ddd dddd ddddd dddddd ddddddd dddddddd ddddddddd\n"
          ]
        }
      ]
    },
    {
      "cell_type": "markdown",
      "source": [
        "## Tuple joining"
      ],
      "metadata": {
        "id": "bm-qZHK5fwXz"
      }
    },
    {
      "cell_type": "code",
      "source": [
        "at = (1, 3, 4, 5)\n",
        "bt = (3, 4, 5, 3)\n",
        "\n",
        "print(at+bt)"
      ],
      "metadata": {
        "colab": {
          "base_uri": "https://localhost:8080/"
        },
        "id": "VkGw0dvzeLDR",
        "outputId": "eec1deae-81d0-4523-a832-0714164bc63b"
      },
      "execution_count": null,
      "outputs": [
        {
          "output_type": "stream",
          "name": "stdout",
          "text": [
            "(1, 3, 4, 5, 3, 4, 5, 3)\n"
          ]
        }
      ]
    },
    {
      "cell_type": "markdown",
      "source": [
        "### Multiply tuple"
      ],
      "metadata": {
        "id": "jURgT2r5hFKn"
      }
    },
    {
      "cell_type": "code",
      "source": [
        "print(*(at*int(input(\"Multiply number: \"))))"
      ],
      "metadata": {
        "colab": {
          "base_uri": "https://localhost:8080/"
        },
        "id": "tu42hIS5gLIj",
        "outputId": "b0f0c912-8b72-4d45-b42c-91d8b7308adb"
      },
      "execution_count": null,
      "outputs": [
        {
          "output_type": "stream",
          "name": "stdout",
          "text": [
            "Multiply number: 10\n",
            "1 3 4 5 1 3 4 5 1 3 4 5 1 3 4 5 1 3 4 5 1 3 4 5 1 3 4 5 1 3 4 5 1 3 4 5 1 3 4 5\n"
          ]
        }
      ]
    },
    {
      "cell_type": "markdown",
      "source": [
        "### Passing arg as tuple"
      ],
      "metadata": {
        "id": "uI2nilwyholX"
      }
    },
    {
      "cell_type": "code",
      "source": [
        "def passFunc(n):\n",
        "  return n, n**2\n",
        "\n",
        "type(passFunc(3))"
      ],
      "metadata": {
        "colab": {
          "base_uri": "https://localhost:8080/"
        },
        "id": "5EXY9tRuhCJI",
        "outputId": "9984417c-8041-4d98-a784-3bb9f60292bf"
      },
      "execution_count": null,
      "outputs": [
        {
          "output_type": "execute_result",
          "data": {
            "text/plain": [
              "tuple"
            ]
          },
          "metadata": {},
          "execution_count": 32
        }
      ]
    },
    {
      "cell_type": "markdown",
      "source": [
        "## List slicing"
      ],
      "metadata": {
        "id": "c4XO33xjh_t-"
      }
    },
    {
      "cell_type": "code",
      "source": [
        "newList = 'Biplob'\n",
        "print(newList[1:3])"
      ],
      "metadata": {
        "colab": {
          "base_uri": "https://localhost:8080/"
        },
        "id": "hAy0lNvah7mm",
        "outputId": "54a89cdb-1783-45e1-92a9-3366e5fa2ff8"
      },
      "execution_count": null,
      "outputs": [
        {
          "output_type": "stream",
          "name": "stdout",
          "text": [
            "ip\n"
          ]
        }
      ]
    },
    {
      "cell_type": "markdown",
      "source": [
        "## End slicing"
      ],
      "metadata": {
        "id": "Q4SyFr4eielP"
      }
    },
    {
      "cell_type": "code",
      "source": [
        "print(newList[:-1])"
      ],
      "metadata": {
        "colab": {
          "base_uri": "https://localhost:8080/"
        },
        "id": "KEV4i587iX43",
        "outputId": "8367b3fa-9140-4a4f-8070-fc8feb46f1ad"
      },
      "execution_count": null,
      "outputs": [
        {
          "output_type": "stream",
          "name": "stdout",
          "text": [
            "Biplo\n"
          ]
        }
      ]
    },
    {
      "cell_type": "markdown",
      "source": [
        "## Reversing list using slicing ::-1"
      ],
      "metadata": {
        "id": "7i8MGFnXiM37"
      }
    },
    {
      "cell_type": "code",
      "source": [
        "print(newList[::-1])"
      ],
      "metadata": {
        "colab": {
          "base_uri": "https://localhost:8080/"
        },
        "id": "4EwqYqRxiK5r",
        "outputId": "efdd3319-9564-42a0-8b1a-c30c3f68498c"
      },
      "execution_count": null,
      "outputs": [
        {
          "output_type": "stream",
          "name": "stdout",
          "text": [
            "bolpiB\n"
          ]
        }
      ]
    },
    {
      "cell_type": "code",
      "source": [
        "aList = list(range(1,11))\n",
        "aList"
      ],
      "metadata": {
        "colab": {
          "base_uri": "https://localhost:8080/"
        },
        "id": "TzPVc6UOiWEc",
        "outputId": "c3f6d1c3-a166-4dd4-daca-d53e73b63087"
      },
      "execution_count": null,
      "outputs": [
        {
          "output_type": "execute_result",
          "data": {
            "text/plain": [
              "[1, 2, 3, 4, 5, 6, 7, 8, 9, 10]"
            ]
          },
          "metadata": {},
          "execution_count": 49
        }
      ]
    },
    {
      "cell_type": "code",
      "source": [
        "aList[::2]"
      ],
      "metadata": {
        "colab": {
          "base_uri": "https://localhost:8080/"
        },
        "id": "K5IJa9iwkpmA",
        "outputId": "3dc2349c-7963-400a-abd5-46caae8dc654"
      },
      "execution_count": null,
      "outputs": [
        {
          "output_type": "execute_result",
          "data": {
            "text/plain": [
              "[1, 3, 5, 7, 9]"
            ]
          },
          "metadata": {},
          "execution_count": 54
        }
      ]
    },
    {
      "cell_type": "markdown",
      "source": [
        "### Tuple"
      ],
      "metadata": {
        "id": "PvxFPSg-ncg_"
      }
    },
    {
      "cell_type": "code",
      "source": [
        "aTuple = tuple(range(1, 21))\n"
      ],
      "metadata": {
        "id": "u1MTq5H3lTSL"
      },
      "execution_count": null,
      "outputs": []
    },
    {
      "cell_type": "code",
      "source": [
        "aTuple[::-1]"
      ],
      "metadata": {
        "colab": {
          "base_uri": "https://localhost:8080/"
        },
        "id": "IHU03SvwnnDk",
        "outputId": "cda5f034-c087-475b-93cc-3de8e4b77605"
      },
      "execution_count": null,
      "outputs": [
        {
          "output_type": "execute_result",
          "data": {
            "text/plain": [
              "(20, 19, 18, 17, 16, 15, 14, 13, 12, 11, 10, 9, 8, 7, 6, 5, 4, 3, 2, 1)"
            ]
          },
          "metadata": {},
          "execution_count": 56
        }
      ]
    },
    {
      "cell_type": "code",
      "source": [
        "aTuple[::2]"
      ],
      "metadata": {
        "colab": {
          "base_uri": "https://localhost:8080/"
        },
        "id": "OMGwaV2HnqiN",
        "outputId": "3a1fd43d-41da-467f-afa3-d7e331451c45"
      },
      "execution_count": null,
      "outputs": [
        {
          "output_type": "execute_result",
          "data": {
            "text/plain": [
              "(1, 3, 5, 7, 9, 11, 13, 15, 17, 19)"
            ]
          },
          "metadata": {},
          "execution_count": 57
        }
      ]
    },
    {
      "cell_type": "code",
      "source": [
        "aTuple[slice(5)]"
      ],
      "metadata": {
        "colab": {
          "base_uri": "https://localhost:8080/"
        },
        "id": "zMUVuiAsnvOE",
        "outputId": "1c6f5be2-4ba7-4e72-bbb9-82e2300fe618"
      },
      "execution_count": null,
      "outputs": [
        {
          "output_type": "execute_result",
          "data": {
            "text/plain": [
              "(1, 2, 3, 4, 5)"
            ]
          },
          "metadata": {},
          "execution_count": 60
        }
      ]
    },
    {
      "cell_type": "markdown",
      "source": [
        "## List unpack, pack"
      ],
      "metadata": {
        "id": "2vNESsOgrNxf"
      }
    },
    {
      "cell_type": "code",
      "source": [
        "list('BANGLADESH')"
      ],
      "metadata": {
        "colab": {
          "base_uri": "https://localhost:8080/"
        },
        "id": "I7ObV6UhrXtx",
        "outputId": "d6e8f139-f78d-4f73-c312-d55d3ad4980e"
      },
      "execution_count": null,
      "outputs": [
        {
          "output_type": "execute_result",
          "data": {
            "text/plain": [
              "['B', 'A', 'N', 'G', 'L', 'A', 'D', 'E', 'S', 'H']"
            ]
          },
          "metadata": {},
          "execution_count": 65
        }
      ]
    },
    {
      "cell_type": "code",
      "source": [
        "newList = list('BANGLADESH')"
      ],
      "metadata": {
        "id": "jckRz_rQp_On"
      },
      "execution_count": null,
      "outputs": []
    },
    {
      "cell_type": "code",
      "source": [
        "print(*newList)"
      ],
      "metadata": {
        "colab": {
          "base_uri": "https://localhost:8080/"
        },
        "id": "mwM1TW6-rr10",
        "outputId": "9cf0f3ee-1131-44fc-be55-c20dca997d72"
      },
      "execution_count": null,
      "outputs": [
        {
          "output_type": "stream",
          "name": "stdout",
          "text": [
            "B A N G L A D E S H\n"
          ]
        }
      ]
    },
    {
      "cell_type": "code",
      "source": [
        "n = newList[:-1]\n",
        "newN = [newList[-1]]\n",
        "\n",
        "print(*n, newN)"
      ],
      "metadata": {
        "colab": {
          "base_uri": "https://localhost:8080/"
        },
        "id": "DP3ITJwDrw2K",
        "outputId": "451c0101-892a-4f89-9855-2ebbdfffd428"
      },
      "execution_count": null,
      "outputs": [
        {
          "output_type": "stream",
          "name": "stdout",
          "text": [
            "B A N G L A D E S ['H']\n"
          ]
        }
      ]
    },
    {
      "cell_type": "markdown",
      "source": [
        "# Problem 1\n",
        "```\n",
        "numbers = [16, 75, 150, 15, 34, 180, 145, 525, 50]\n",
        "\n",
        "from this list find out if item is divisible by 5 then \n",
        "if item is greater than 100 then skip \n",
        "if item is greater than 300 then break\n",
        "else print item\n",
        "```"
      ],
      "metadata": {
        "id": "5rzlU7MEUWGR"
      }
    },
    {
      "cell_type": "code",
      "source": [
        "numbers = [16, 75, 150, 15, 34, 180, 145, 525, 50]\n",
        "# for i in numbers:\n",
        "#     if i % 5 == 0:\n",
        "#         if i > 300:\n",
        "#             break\n",
        "#         elif i > 100:\n",
        "#             continue\n",
        "#         print(i, end=' ')\n",
        "# print()\n",
        "\n",
        "## Single line\n",
        "print(*[n for n in numbers[:next(i for i,x in enumerate(numbers) if x > 300)] if (n % 5 == 0) and n < 100])\n"
      ],
      "metadata": {
        "id": "L4TT-fB5r4Xp",
        "colab": {
          "base_uri": "https://localhost:8080/"
        },
        "outputId": "ee86db41-2cbb-46ae-f95b-84a2daf10639"
      },
      "execution_count": 10,
      "outputs": [
        {
          "output_type": "stream",
          "name": "stdout",
          "text": [
            "75 15\n"
          ]
        }
      ]
    }
  ]
}