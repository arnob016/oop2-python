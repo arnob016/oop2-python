{
  "nbformat": 4,
  "nbformat_minor": 0,
  "metadata": {
    "colab": {
      "name": "OOP_python_c1Problem.ipynb",
      "provenance": []
    },
    "kernelspec": {
      "name": "python3",
      "display_name": "Python 3"
    },
    "language_info": {
      "name": "python"
    }
  },
  "cells": [
    {
      "cell_type": "markdown",
      "source": [
        "<center><img src=\"https://github.com/biplobsd/oop2-python/blob/main/res/301155784_3430160670639666_2153081713779961127_n.jpg?raw=true\" height=400></center>"
      ],
      "metadata": {
        "id": "X4mFsfXpmbP-"
      }
    },
    {
      "cell_type": "markdown",
      "source": [
        "## 1"
      ],
      "metadata": {
        "id": "YzfNJ5jeiVDm"
      }
    },
    {
      "cell_type": "code",
      "execution_count": null,
      "metadata": {
        "colab": {
          "base_uri": "https://localhost:8080/"
        },
        "id": "BE287PQLa18Y",
        "outputId": "62b2e5d9-ce13-4f36-99f4-f928f8c96259"
      },
      "outputs": [
        {
          "output_type": "stream",
          "name": "stdout",
          "text": [
            "6\n",
            "6x1=6\n",
            "6x2=12\n",
            "6x3=18\n",
            "6x4=24\n",
            "6x5=30\n",
            "6x6=36\n",
            "6x7=42\n",
            "6x8=48\n",
            "6x9=54\n",
            "6x10=60\n"
          ]
        }
      ],
      "source": [
        "userInput = int(input())\n",
        "for i in range(1, 11):\n",
        "  print(f\"{userInput}x{i}={i*userInput}\")"
      ]
    },
    {
      "cell_type": "markdown",
      "source": [
        "## 2"
      ],
      "metadata": {
        "id": "s_MR9Q0AiZrI"
      }
    },
    {
      "cell_type": "code",
      "source": [
        "userInput = input()\n",
        "for c in range(len(userInput)-1, -1, -1):\n",
        "  print(userInput[c], end='')"
      ],
      "metadata": {
        "colab": {
          "base_uri": "https://localhost:8080/"
        },
        "id": "c43CifUrbCsS",
        "outputId": "b81a051a-b82e-4b44-af84-d340c5d6306b"
      },
      "execution_count": null,
      "outputs": [
        {
          "output_type": "stream",
          "name": "stdout",
          "text": [
            "biplob\n",
            "bolpib"
          ]
        }
      ]
    },
    {
      "cell_type": "markdown",
      "source": [
        "## 3"
      ],
      "metadata": {
        "id": "aP4Wmjjridhv"
      }
    },
    {
      "cell_type": "code",
      "source": [
        "userInput = int(input())\n",
        "while userInput>0:\n",
        "  print(userInput%10, end='')\n",
        "  userInput //= 10"
      ],
      "metadata": {
        "colab": {
          "base_uri": "https://localhost:8080/"
        },
        "id": "KYOV-ye-b5tA",
        "outputId": "b934bcf0-aaa0-4b57-80a4-bf41e6d331ba"
      },
      "execution_count": null,
      "outputs": [
        {
          "output_type": "stream",
          "name": "stdout",
          "text": [
            "342\n",
            "243"
          ]
        }
      ]
    },
    {
      "cell_type": "markdown",
      "source": [
        "## 4"
      ],
      "metadata": {
        "id": "EpVHZEJUif0M"
      }
    },
    {
      "cell_type": "code",
      "source": [
        "userInput = int(input())\n",
        "total = 0\n",
        "while userInput>0:\n",
        "  # print(userInput%10, end='')\n",
        "  userInput //= 10\n",
        "  total += 1\n",
        "print(total)"
      ],
      "metadata": {
        "colab": {
          "base_uri": "https://localhost:8080/"
        },
        "id": "LUjnTprxcg0Q",
        "outputId": "7236e9b7-9db1-46df-f8f9-01ba67ced47a"
      },
      "execution_count": null,
      "outputs": [
        {
          "output_type": "stream",
          "name": "stdout",
          "text": [
            "5\n",
            "1\n"
          ]
        }
      ]
    },
    {
      "cell_type": "markdown",
      "source": [
        "## 5"
      ],
      "metadata": {
        "id": "5VypyAqDjn1L"
      }
    },
    {
      "cell_type": "code",
      "source": [
        "userInput = int(input())\n",
        "for i in range(1, userInput+1):\n",
        "  print(i, end=' ')\n",
        "  if i==5:break\n",
        "print()"
      ],
      "metadata": {
        "colab": {
          "base_uri": "https://localhost:8080/"
        },
        "id": "jbsgweSojpTs",
        "outputId": "1ee45fd6-f5d3-4ea7-b12e-73afaf8d6a0a"
      },
      "execution_count": null,
      "outputs": [
        {
          "output_type": "stream",
          "name": "stdout",
          "text": [
            "10\n",
            "1 2 3 4 5 \n"
          ]
        }
      ]
    },
    {
      "cell_type": "markdown",
      "source": [
        "## 6"
      ],
      "metadata": {
        "id": "Yl1_BWgpkU9k"
      }
    },
    {
      "cell_type": "code",
      "source": [
        "def fact(x):\n",
        "  if x == 1:\n",
        "    return 1\n",
        "  else:\n",
        "    return x*fact(x-1)\n",
        "\n",
        "userInput = int(input())\n",
        "print(userInput, 'factorial is', fact(userInput))"
      ],
      "metadata": {
        "colab": {
          "base_uri": "https://localhost:8080/"
        },
        "id": "XqjPzlZ6kWzQ",
        "outputId": "7fa8f3bb-483b-483b-f20e-8e7671871525"
      },
      "execution_count": null,
      "outputs": [
        {
          "output_type": "stream",
          "name": "stdout",
          "text": [
            "7\n",
            "7 factorial is 5040\n"
          ]
        }
      ]
    },
    {
      "cell_type": "markdown",
      "source": [
        "## 7"
      ],
      "metadata": {
        "id": "HEC-OyZIinkB"
      }
    },
    {
      "cell_type": "code",
      "source": [
        "userInput = int(input())\n",
        "total = 0 \n",
        "for i in range(1, userInput+1):\n",
        "  total += i\n",
        "\n",
        "print(total)"
      ],
      "metadata": {
        "colab": {
          "base_uri": "https://localhost:8080/"
        },
        "id": "jsGp7CHriDCX",
        "outputId": "ce52e1a7-85b1-4e9f-a0cf-9fc0adbf1424"
      },
      "execution_count": null,
      "outputs": [
        {
          "output_type": "stream",
          "name": "stdout",
          "text": [
            "7\n",
            "28\n"
          ]
        }
      ]
    },
    {
      "cell_type": "markdown",
      "source": [
        "## 8"
      ],
      "metadata": {
        "id": "wz99iQqpjLiN"
      }
    },
    {
      "cell_type": "code",
      "source": [
        "userInput = int(input())\n",
        "while userInput>0:\n",
        "  print(userInput, end=' ')\n",
        "  userInput -= 1\n",
        "print()"
      ],
      "metadata": {
        "colab": {
          "base_uri": "https://localhost:8080/"
        },
        "id": "uUTlhjNHi-Mh",
        "outputId": "fc9af3cd-5423-47e9-ea39-337b57884802"
      },
      "execution_count": null,
      "outputs": [
        {
          "output_type": "stream",
          "name": "stdout",
          "text": [
            "5\n",
            "5 4 3 2 1 \n"
          ]
        }
      ]
    }
  ]
}