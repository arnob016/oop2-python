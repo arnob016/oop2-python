{
  "nbformat": 4,
  "nbformat_minor": 0,
  "metadata": {
    "colab": {
      "name": "Text Preprocessing basic.ipynb",
      "provenance": [],
      "collapsed_sections": [],
      "authorship_tag": "ABX9TyMECEb8L8q2z/dCYpW1xY5d",
      "include_colab_link": true
    },
    "kernelspec": {
      "name": "python3",
      "display_name": "Python 3"
    },
    "language_info": {
      "name": "python"
    }
  },
  "cells": [
    {
      "cell_type": "markdown",
      "metadata": {
        "id": "view-in-github",
        "colab_type": "text"
      },
      "source": [
        "<a href=\"https://colab.research.google.com/github/biplobsd/oop2-python/blob/main/Text_Preprocessing_basic.ipynb\" target=\"_parent\"><img src=\"https://colab.research.google.com/assets/colab-badge.svg\" alt=\"Open In Colab\"/></a>"
      ]
    },
    {
      "cell_type": "code",
      "execution_count": null,
      "metadata": {
        "id": "1FzSK2VxMYRA"
      },
      "outputs": [],
      "source": [
        "## data \n",
        "data = \"\"\"\n",
        "<body>What is Lorem Ipsum?\n",
        "Lorem Ipsum is simply dummy text of the printing and typesetting industry. Lorem Ipsum has been the industry's standard dummy text ever since the 1500s, when an unknown printer took a galley of type and scrambled it to make a type specimen book. It has survived not only five centuries, but also the leap into electronic typesetting, remaining essentially unchanged. It was popularised in the 1960s with the release of Letraset sheets containing Lorem Ipsum passages, and more recently with desktop publishing software like Aldus PageMaker including versions of Lorem Ipsum.\n",
        "\n",
        "Why do we use it?\n",
        "It is a long established fact that a reader will be distracted by the readable content of a page when looking at its layout. The point of using Lorem Ipsum is that it has a more-or-less normal distribution of letters, as opposed to using 'Content here, content here', making it look like readable English. Many desktop publishing packages and web page editors now use Lorem Ipsum as their default model text, and a search for 'lorem ipsum' will uncover many web sites still in their infancy. Various versions have evolved over the years, sometimes by accident, sometimes on purpose (injected humour and the like).\n",
        "\n",
        "all data from https://www.lipsum.com/\n",
        "</body>\n",
        "\"\"\""
      ]
    },
    {
      "cell_type": "code",
      "source": [
        "## lower casing \n",
        "data = data.lower()\n",
        "data"
      ],
      "metadata": {
        "colab": {
          "base_uri": "https://localhost:8080/",
          "height": 192
        },
        "id": "5QKF3IexMoX8",
        "outputId": "c9c006df-84ae-44f4-b159-337348ecb756"
      },
      "execution_count": null,
      "outputs": [
        {
          "output_type": "execute_result",
          "data": {
            "text/plain": [
              "\"\\n<body>what is lorem ipsum?\\nlorem ipsum is simply dummy text of the printing and typesetting industry. lorem ipsum has been the industry's standard dummy text ever since the 1500s, when an unknown printer took a galley of type and scrambled it to make a type specimen book. it has survived not only five centuries, but also the leap into electronic typesetting, remaining essentially unchanged. it was popularised in the 1960s with the release of letraset sheets containing lorem ipsum passages, and more recently with desktop publishing software like aldus pagemaker including versions of lorem ipsum.\\n\\nwhy do we use it?\\nit is a long established fact that a reader will be distracted by the readable content of a page when looking at its layout. the point of using lorem ipsum is that it has a more-or-less normal distribution of letters, as opposed to using 'content here, content here', making it look like readable english. many desktop publishing packages and web page editors now use lorem ipsum as their default model text, and a search for 'lorem ipsum' will uncover many web sites still in their infancy. various versions have evolved over the years, sometimes by accident, sometimes on purpose (injected humour and the like).\\n\\nall data from https://www.lipsum.com/\\n</body>\\n\""
            ],
            "application/vnd.google.colaboratory.intrinsic+json": {
              "type": "string"
            }
          },
          "metadata": {},
          "execution_count": 3
        }
      ]
    },
    {
      "cell_type": "code",
      "source": [
        "import re\n",
        "\n",
        "## remove html tags\n",
        "def removeHtml(data):\n",
        "  pattern = re.compile(r'<.*?>')\n",
        "  return pattern.sub('', data)\n",
        "\n",
        "data = removeHtml(data)\n",
        "data"
      ],
      "metadata": {
        "colab": {
          "base_uri": "https://localhost:8080/",
          "height": 192
        },
        "id": "ardAKy6OM_jM",
        "outputId": "d7d49c76-c1e6-4cce-c471-fcc3c776b9a8"
      },
      "execution_count": null,
      "outputs": [
        {
          "output_type": "execute_result",
          "data": {
            "text/plain": [
              "\"\\nwhat is lorem ipsum?\\nlorem ipsum is simply dummy text of the printing and typesetting industry. lorem ipsum has been the industry's standard dummy text ever since the 1500s, when an unknown printer took a galley of type and scrambled it to make a type specimen book. it has survived not only five centuries, but also the leap into electronic typesetting, remaining essentially unchanged. it was popularised in the 1960s with the release of letraset sheets containing lorem ipsum passages, and more recently with desktop publishing software like aldus pagemaker including versions of lorem ipsum.\\n\\nwhy do we use it?\\nit is a long established fact that a reader will be distracted by the readable content of a page when looking at its layout. the point of using lorem ipsum is that it has a more-or-less normal distribution of letters, as opposed to using 'content here, content here', making it look like readable english. many desktop publishing packages and web page editors now use lorem ipsum as their default model text, and a search for 'lorem ipsum' will uncover many web sites still in their infancy. various versions have evolved over the years, sometimes by accident, sometimes on purpose (injected humour and the like).\\n\\nall data from https://www.lipsum.com/\\n\\n\""
            ],
            "application/vnd.google.colaboratory.intrinsic+json": {
              "type": "string"
            }
          },
          "metadata": {},
          "execution_count": 4
        }
      ]
    },
    {
      "cell_type": "code",
      "source": [
        "## remove url\n",
        "def removeUrl(data):\n",
        "    pattern = re.compile(r'https?://\\S+|www\\.\\S+')\n",
        "    return pattern.sub('', data)\n",
        "\n",
        "data = removeUrl(data)\n",
        "data"
      ],
      "metadata": {
        "colab": {
          "base_uri": "https://localhost:8080/",
          "height": 192
        },
        "id": "IroGI7L4NqkK",
        "outputId": "d9313e58-3e53-4d06-c741-d96a6a629eb5"
      },
      "execution_count": null,
      "outputs": [
        {
          "output_type": "execute_result",
          "data": {
            "text/plain": [
              "\"\\nwhat is lorem ipsum?\\nlorem ipsum is simply dummy text of the printing and typesetting industry. lorem ipsum has been the industry's standard dummy text ever since the 1500s, when an unknown printer took a galley of type and scrambled it to make a type specimen book. it has survived not only five centuries, but also the leap into electronic typesetting, remaining essentially unchanged. it was popularised in the 1960s with the release of letraset sheets containing lorem ipsum passages, and more recently with desktop publishing software like aldus pagemaker including versions of lorem ipsum.\\n\\nwhy do we use it?\\nit is a long established fact that a reader will be distracted by the readable content of a page when looking at its layout. the point of using lorem ipsum is that it has a more-or-less normal distribution of letters, as opposed to using 'content here, content here', making it look like readable english. many desktop publishing packages and web page editors now use lorem ipsum as their default model text, and a search for 'lorem ipsum' will uncover many web sites still in their infancy. various versions have evolved over the years, sometimes by accident, sometimes on purpose (injected humour and the like).\\n\\nall data from \\n\\n\""
            ],
            "application/vnd.google.colaboratory.intrinsic+json": {
              "type": "string"
            }
          },
          "metadata": {},
          "execution_count": 5
        }
      ]
    },
    {
      "cell_type": "code",
      "source": [
        "import string\n",
        "## remove puncuation\n",
        "def removePunc(data):\n",
        "  return data.translate(str.maketrans('', '', string.punctuation))\n",
        "\n",
        "data = removePunc(data)\n",
        "data"
      ],
      "metadata": {
        "colab": {
          "base_uri": "https://localhost:8080/",
          "height": 192
        },
        "id": "-gAT4C6_O0WE",
        "outputId": "96801de7-9594-4b3e-cfdd-622e04b0b52f"
      },
      "execution_count": null,
      "outputs": [
        {
          "output_type": "execute_result",
          "data": {
            "text/plain": [
              "'\\nwhat is lorem ipsum\\nlorem ipsum is simply dummy text of the printing and typesetting industry lorem ipsum has been the industrys standard dummy text ever since the 1500s when an unknown printer took a galley of type and scrambled it to make a type specimen book it has survived not only five centuries but also the leap into electronic typesetting remaining essentially unchanged it was popularised in the 1960s with the release of letraset sheets containing lorem ipsum passages and more recently with desktop publishing software like aldus pagemaker including versions of lorem ipsum\\n\\nwhy do we use it\\nit is a long established fact that a reader will be distracted by the readable content of a page when looking at its layout the point of using lorem ipsum is that it has a moreorless normal distribution of letters as opposed to using content here content here making it look like readable english many desktop publishing packages and web page editors now use lorem ipsum as their default model text and a search for lorem ipsum will uncover many web sites still in their infancy various versions have evolved over the years sometimes by accident sometimes on purpose injected humour and the like\\n\\nall data from \\n\\n'"
            ],
            "application/vnd.google.colaboratory.intrinsic+json": {
              "type": "string"
            }
          },
          "metadata": {},
          "execution_count": 6
        }
      ]
    },
    {
      "cell_type": "code",
      "source": [
        "patternFastWord = \"\"\"AFAIK=As Far As I Know\n",
        "AFK=Away From Keyboard\n",
        "ASAP=As Soon As Possible\n",
        "ATK=At The Keyboard\n",
        "ATM=At The Moment\n",
        "A3=Anytime, Anywhere, Anyplace\n",
        "BAK=Back At Keyboard\n",
        "BBL=Be Back Later\n",
        "BBS=Be Back Soon\n",
        "BFN=Bye For Now\n",
        "B4N=Bye For Now\n",
        "BRB=Be Right Back\n",
        "BRT=Be Right There\n",
        "BTW=By The Way\n",
        "B4=Before\n",
        "B4N=Bye For Now\n",
        "CU=See You\n",
        "CUL8R=See You Later\n",
        "CYA=See You\n",
        "FAQ=Frequently Asked Questions\n",
        "FC=Fingers Crossed\n",
        "FWIW=For What It's Worth\n",
        "FYI=For Your Information\n",
        "GAL=Get A Life\n",
        "GG=Good Game\n",
        "GN=Good Night\n",
        "GMTA=Great Minds Think Alike\n",
        "GR8=Great!\n",
        "G9=Genius\n",
        "IC=I See\n",
        "ICQ=I Seek you (also a chat program)\n",
        "ILU=ILU: I Love You\n",
        "IMHO=In My Honest/Humble Opinion\n",
        "IMO=In My Opinion\n",
        "IOW=In Other Words\n",
        "IRL=In Real Life\n",
        "KISS=Keep It Simple, Stupid\n",
        "LDR=Long Distance Relationship\n",
        "LMAO=Laugh My A.. Off\n",
        "LOL=Laughing Out Loud\n",
        "LTNS=Long Time No See\n",
        "L8R=Later\n",
        "MTE=My Thoughts Exactly\n",
        "M8=Mate\n",
        "NRN=No Reply Necessary\n",
        "OIC=Oh I See\n",
        "PITA=Pain In The A..\n",
        "PRT=Party\n",
        "PRW=Parents Are Watching\n",
        "QPSA=Que Pasa?\n",
        "ROFL=Rolling On The Floor Laughing\n",
        "ROFLOL=Rolling On The Floor Laughing Out Loud\n",
        "ROTFLMAO=Rolling On The Floor Laughing My A.. Off\n",
        "SK8=Skate\n",
        "STATS=Your sex and age\n",
        "ASL=Age, Sex, Location\n",
        "THX=Thank You\n",
        "TTFN=Ta-Ta For Now!\n",
        "TTYL=Talk To You Later\n",
        "U=You\n",
        "U2=You Too\n",
        "U4E=Yours For Ever\n",
        "WB=Welcome Back\n",
        "WTF=What The F...\n",
        "WTG=Way To Go!\n",
        "WUF=Where Are You From?\n",
        "W8=Wait...\n",
        "7K=Sick:-D Laugher\"\"\""
      ],
      "metadata": {
        "id": "JsrGRImSS6DH"
      },
      "execution_count": null,
      "outputs": []
    },
    {
      "cell_type": "code",
      "source": [
        "chatWords = {}\n",
        "for line in patternFastWord.split('\\n'):\n",
        "  k,v = line.split('=')\n",
        "  chatWords[k] = v"
      ],
      "metadata": {
        "id": "b23-pxjdSyuY"
      },
      "execution_count": null,
      "outputs": []
    },
    {
      "cell_type": "code",
      "source": [
        "## chat word treatment\n",
        "def chatConversion(text):\n",
        "    new_text = []\n",
        "    for w in text.split():\n",
        "        if w.upper() in chatWords:\n",
        "            new_text.append(chatWords[w.upper()])\n",
        "        else:\n",
        "            new_text.append(w)\n",
        "    return \" \".join(new_text)\n",
        "data = chatConversion(data)\n",
        "data"
      ],
      "metadata": {
        "colab": {
          "base_uri": "https://localhost:8080/",
          "height": 192
        },
        "id": "ml2-f4moP1mE",
        "outputId": "a1c63c82-3f14-45f1-d98e-6fb406e33b16"
      },
      "execution_count": null,
      "outputs": [
        {
          "output_type": "execute_result",
          "data": {
            "text/plain": [
              "'what is lorem ipsum lorem ipsum is simply dummy text of the printing and typesetting industry lorem ipsum has been the industrys standard dummy text ever since the 1500s when an unknown printer took a galley of type and scrambled it to make a type specimen book it has survived not only five centuries but also the leap into electronic typesetting remaining essentially unchanged it was popularised in the 1960s with the release of letraset sheets containing lorem ipsum passages and more recently with desktop publishing software like aldus pagemaker including versions of lorem ipsum why do we use it it is a long established fact that a reader will be distracted by the readable content of a page when looking at its layout the point of using lorem ipsum is that it has a moreorless normal distribution of letters as opposed to using content here content here making it look like readable english many desktop publishing packages and web page editors now use lorem ipsum as their default model text and a search for lorem ipsum will uncover many web sites still in their infancy various versions have evolved over the years sometimes by accident sometimes on purpose injected humour and the like all data from'"
            ],
            "application/vnd.google.colaboratory.intrinsic+json": {
              "type": "string"
            }
          },
          "metadata": {},
          "execution_count": 9
        }
      ]
    },
    {
      "cell_type": "code",
      "source": [
        "## spelling correction\n",
        "from textblob import TextBlob\n",
        "textBlobIns = TextBlob(data)\n",
        "data = textBlobIns.correct().string\n",
        "data"
      ],
      "metadata": {
        "colab": {
          "base_uri": "https://localhost:8080/",
          "height": 192
        },
        "id": "jtXuoYnbToPR",
        "outputId": "a3ab38d8-07d6-48ef-b7c2-4b822e682470"
      },
      "execution_count": null,
      "outputs": [
        {
          "output_type": "execute_result",
          "data": {
            "text/plain": [
              "'what is lore issue lore issue is simply dummy text of the printing and typesetting industry lore issue has been the industry standard dummy text ever since the 1500s when an unknown printer took a galley of type and scrambled it to make a type specimen book it has survived not only five centuries but also the leap into electronic typesetting remaining essentially unchanged it was popularised in the 1960s with the release of letraset sheets containing lore issue passages and more recently with desktop publishing software like albus pagemaker including versions of lore issue why do we use it it is a long established fact that a reader will be distracted by the readable content of a page when looking at its layout the point of using lore issue is that it has a moreorless normal distribution of letters as opposed to using content here content here making it look like readable english many desktop publishing packages and web page editors now use lore issue as their default model text and a search for lore issue will uncover many web sites still in their infancy various versions have evolved over the years sometimes by accident sometimes on purpose injected humour and the like all data from'"
            ],
            "application/vnd.google.colaboratory.intrinsic+json": {
              "type": "string"
            }
          },
          "metadata": {},
          "execution_count": 10
        }
      ]
    },
    {
      "cell_type": "code",
      "source": [
        "## ready stopwords nltk lib\n",
        "import nltk\n",
        "nltk.download('stopwords')"
      ],
      "metadata": {
        "colab": {
          "base_uri": "https://localhost:8080/"
        },
        "id": "G0P9uTF4XkUQ",
        "outputId": "472a7d5e-cee6-4e1d-bdc7-e3755ccf4c65"
      },
      "execution_count": null,
      "outputs": [
        {
          "output_type": "stream",
          "name": "stderr",
          "text": [
            "[nltk_data] Downloading package stopwords to /root/nltk_data...\n",
            "[nltk_data]   Unzipping corpora/stopwords.zip.\n"
          ]
        },
        {
          "output_type": "execute_result",
          "data": {
            "text/plain": [
              "True"
            ]
          },
          "metadata": {},
          "execution_count": 11
        }
      ]
    },
    {
      "cell_type": "code",
      "source": [
        "## remove stop words\n",
        "from nltk.corpus import stopwords\n",
        "def removeStopwords(text):\n",
        "    new_text = []\n",
        "    \n",
        "    for word in text.split():\n",
        "        if word in stopwords.words('english'):\n",
        "            new_text.append('')\n",
        "        else:\n",
        "            new_text.append(word)\n",
        "    x = new_text[:]\n",
        "    new_text.clear()\n",
        "    return \" \".join(x)\n",
        "data = removeStopwords(data)\n",
        "data"
      ],
      "metadata": {
        "colab": {
          "base_uri": "https://localhost:8080/",
          "height": 174
        },
        "id": "jzdJtca_WzSJ",
        "outputId": "20c09ab3-d655-47eb-c56a-e7a8ff926bfb"
      },
      "execution_count": null,
      "outputs": [
        {
          "output_type": "execute_result",
          "data": {
            "text/plain": [
              "'  lore issue lore issue  simply dummy text   printing  typesetting industry lore issue    industry standard dummy text ever since  1500s   unknown printer took  galley  type  scrambled   make  type specimen book   survived   five centuries  also  leap  electronic typesetting remaining essentially unchanged   popularised   1960s   release  letraset sheets containing lore issue passages   recently  desktop publishing software like albus pagemaker including versions  lore issue    use     long established fact   reader   distracted   readable content   page  looking   layout  point  using lore issue      moreorless normal distribution  letters  opposed  using content  content  making  look like readable english many desktop publishing packages  web page editors  use lore issue   default model text   search  lore issue  uncover many web sites still   infancy various versions  evolved   years sometimes  accident sometimes  purpose injected humour   like  data '"
            ],
            "application/vnd.google.colaboratory.intrinsic+json": {
              "type": "string"
            }
          },
          "metadata": {},
          "execution_count": 12
        }
      ]
    },
    {
      "cell_type": "code",
      "source": [
        "## handling emojis\n",
        "import re\n",
        "def removeEmoji(text):\n",
        "    emoji_pattern = re.compile(\"[\"\n",
        "                           u\"\\U0001F600-\\U0001F64F\"  # emoticons\n",
        "                           u\"\\U0001F300-\\U0001F5FF\"  # symbols & pictographs\n",
        "                           u\"\\U0001F680-\\U0001F6FF\"  # transport & map symbols\n",
        "                           u\"\\U0001F1E0-\\U0001F1FF\"  # flags (iOS)\n",
        "                           u\"\\U00002702-\\U000027B0\"\n",
        "                           u\"\\U000024C2-\\U0001F251\"\n",
        "                           \"]+\", flags=re.UNICODE)\n",
        "    return emoji_pattern.sub(r'', text)\n",
        "\n",
        "data = removeEmoji(data)\n",
        "data"
      ],
      "metadata": {
        "colab": {
          "base_uri": "https://localhost:8080/",
          "height": 174
        },
        "id": "IIgXINQLXVoy",
        "outputId": "92cd6912-eb66-419b-ad7d-9a3fa11c746b"
      },
      "execution_count": null,
      "outputs": [
        {
          "output_type": "execute_result",
          "data": {
            "text/plain": [
              "'  lore issue lore issue  simply dummy text   printing  typesetting industry lore issue    industry standard dummy text ever since  1500s   unknown printer took  galley  type  scrambled   make  type specimen book   survived   five centuries  also  leap  electronic typesetting remaining essentially unchanged   popularised   1960s   release  letraset sheets containing lore issue passages   recently  desktop publishing software like albus pagemaker including versions  lore issue    use     long established fact   reader   distracted   readable content   page  looking   layout  point  using lore issue      moreorless normal distribution  letters  opposed  using content  content  making  look like readable english many desktop publishing packages  web page editors  use lore issue   default model text   search  lore issue  uncover many web sites still   infancy various versions  evolved   years sometimes  accident sometimes  purpose injected humour   like  data '"
            ],
            "application/vnd.google.colaboratory.intrinsic+json": {
              "type": "string"
            }
          },
          "metadata": {},
          "execution_count": 13
        }
      ]
    },
    {
      "cell_type": "code",
      "source": [
        "## install emoji module\n",
        "!pip install emoji"
      ],
      "metadata": {
        "colab": {
          "base_uri": "https://localhost:8080/"
        },
        "id": "nVw8QBlQYi71",
        "outputId": "9b21cb8b-bb90-4376-9c99-222791e9be05"
      },
      "execution_count": null,
      "outputs": [
        {
          "output_type": "stream",
          "name": "stdout",
          "text": [
            "Looking in indexes: https://pypi.org/simple, https://us-python.pkg.dev/colab-wheels/public/simple/\n",
            "Collecting emoji\n",
            "  Downloading emoji-2.0.0.tar.gz (197 kB)\n",
            "\u001b[K     |████████████████████████████████| 197 kB 5.0 MB/s \n",
            "\u001b[?25hBuilding wheels for collected packages: emoji\n",
            "  Building wheel for emoji (setup.py) ... \u001b[?25l\u001b[?25hdone\n",
            "  Created wheel for emoji: filename=emoji-2.0.0-py3-none-any.whl size=193022 sha256=33dffc502b79b04a8f55589f0bfa14e38d2c7196d00e2a8bb76020cfcc362725\n",
            "  Stored in directory: /root/.cache/pip/wheels/ec/29/4d/3cfe7452ac7d8d83b1930f8a6205c3c9649b24e80f9029fc38\n",
            "Successfully built emoji\n",
            "Installing collected packages: emoji\n",
            "Successfully installed emoji-2.0.0\n"
          ]
        }
      ]
    },
    {
      "cell_type": "code",
      "source": [
        "## replace emoji with word meaning\n",
        "import emoji\n",
        "data = emoji.demojize(data)\n",
        "data"
      ],
      "metadata": {
        "colab": {
          "base_uri": "https://localhost:8080/",
          "height": 174
        },
        "id": "os2SbHK8YUXH",
        "outputId": "dad855f8-0ef8-4ab7-b515-5dfc24dfc065"
      },
      "execution_count": null,
      "outputs": [
        {
          "output_type": "execute_result",
          "data": {
            "text/plain": [
              "'  lore issue lore issue  simply dummy text   printing  typesetting industry lore issue    industry standard dummy text ever since  1500s   unknown printer took  galley  type  scrambled   make  type specimen book   survived   five centuries  also  leap  electronic typesetting remaining essentially unchanged   popularised   1960s   release  letraset sheets containing lore issue passages   recently  desktop publishing software like albus pagemaker including versions  lore issue    use     long established fact   reader   distracted   readable content   page  looking   layout  point  using lore issue      moreorless normal distribution  letters  opposed  using content  content  making  look like readable english many desktop publishing packages  web page editors  use lore issue   default model text   search  lore issue  uncover many web sites still   infancy various versions  evolved   years sometimes  accident sometimes  purpose injected humour   like  data '"
            ],
            "application/vnd.google.colaboratory.intrinsic+json": {
              "type": "string"
            }
          },
          "metadata": {},
          "execution_count": 15
        }
      ]
    },
    {
      "cell_type": "code",
      "source": [
        "## Tokenization\n",
        "### word split\n",
        "data.split()"
      ],
      "metadata": {
        "id": "-nQW4bEOYhwp",
        "colab": {
          "base_uri": "https://localhost:8080/"
        },
        "outputId": "8a99e0ab-e886-4514-dbe6-e6e9d04afb39"
      },
      "execution_count": null,
      "outputs": [
        {
          "output_type": "execute_result",
          "data": {
            "text/plain": [
              "['lore',\n",
              " 'issue',\n",
              " 'lore',\n",
              " 'issue',\n",
              " 'simply',\n",
              " 'dummy',\n",
              " 'text',\n",
              " 'printing',\n",
              " 'typesetting',\n",
              " 'industry',\n",
              " 'lore',\n",
              " 'issue',\n",
              " 'industry',\n",
              " 'standard',\n",
              " 'dummy',\n",
              " 'text',\n",
              " 'ever',\n",
              " 'since',\n",
              " '1500s',\n",
              " 'unknown',\n",
              " 'printer',\n",
              " 'took',\n",
              " 'galley',\n",
              " 'type',\n",
              " 'scrambled',\n",
              " 'make',\n",
              " 'type',\n",
              " 'specimen',\n",
              " 'book',\n",
              " 'survived',\n",
              " 'five',\n",
              " 'centuries',\n",
              " 'also',\n",
              " 'leap',\n",
              " 'electronic',\n",
              " 'typesetting',\n",
              " 'remaining',\n",
              " 'essentially',\n",
              " 'unchanged',\n",
              " 'popularised',\n",
              " '1960s',\n",
              " 'release',\n",
              " 'letraset',\n",
              " 'sheets',\n",
              " 'containing',\n",
              " 'lore',\n",
              " 'issue',\n",
              " 'passages',\n",
              " 'recently',\n",
              " 'desktop',\n",
              " 'publishing',\n",
              " 'software',\n",
              " 'like',\n",
              " 'albus',\n",
              " 'pagemaker',\n",
              " 'including',\n",
              " 'versions',\n",
              " 'lore',\n",
              " 'issue',\n",
              " 'use',\n",
              " 'long',\n",
              " 'established',\n",
              " 'fact',\n",
              " 'reader',\n",
              " 'distracted',\n",
              " 'readable',\n",
              " 'content',\n",
              " 'page',\n",
              " 'looking',\n",
              " 'layout',\n",
              " 'point',\n",
              " 'using',\n",
              " 'lore',\n",
              " 'issue',\n",
              " 'moreorless',\n",
              " 'normal',\n",
              " 'distribution',\n",
              " 'letters',\n",
              " 'opposed',\n",
              " 'using',\n",
              " 'content',\n",
              " 'content',\n",
              " 'making',\n",
              " 'look',\n",
              " 'like',\n",
              " 'readable',\n",
              " 'english',\n",
              " 'many',\n",
              " 'desktop',\n",
              " 'publishing',\n",
              " 'packages',\n",
              " 'web',\n",
              " 'page',\n",
              " 'editors',\n",
              " 'use',\n",
              " 'lore',\n",
              " 'issue',\n",
              " 'default',\n",
              " 'model',\n",
              " 'text',\n",
              " 'search',\n",
              " 'lore',\n",
              " 'issue',\n",
              " 'uncover',\n",
              " 'many',\n",
              " 'web',\n",
              " 'sites',\n",
              " 'still',\n",
              " 'infancy',\n",
              " 'various',\n",
              " 'versions',\n",
              " 'evolved',\n",
              " 'years',\n",
              " 'sometimes',\n",
              " 'accident',\n",
              " 'sometimes',\n",
              " 'purpose',\n",
              " 'injected',\n",
              " 'humour',\n",
              " 'like',\n",
              " 'data']"
            ]
          },
          "metadata": {},
          "execution_count": 16
        }
      ]
    },
    {
      "cell_type": "code",
      "source": [
        "### regular expression\n",
        "import re\n",
        "re.findall(r\"[\\w']+\", data)"
      ],
      "metadata": {
        "colab": {
          "base_uri": "https://localhost:8080/"
        },
        "id": "SyvKs1vAP9xZ",
        "outputId": "3d58b49a-9433-4337-8d5e-56847bd237d9"
      },
      "execution_count": null,
      "outputs": [
        {
          "output_type": "execute_result",
          "data": {
            "text/plain": [
              "['lore',\n",
              " 'issue',\n",
              " 'lore',\n",
              " 'issue',\n",
              " 'simply',\n",
              " 'dummy',\n",
              " 'text',\n",
              " 'printing',\n",
              " 'typesetting',\n",
              " 'industry',\n",
              " 'lore',\n",
              " 'issue',\n",
              " 'industry',\n",
              " 'standard',\n",
              " 'dummy',\n",
              " 'text',\n",
              " 'ever',\n",
              " 'since',\n",
              " '1500s',\n",
              " 'unknown',\n",
              " 'printer',\n",
              " 'took',\n",
              " 'galley',\n",
              " 'type',\n",
              " 'scrambled',\n",
              " 'make',\n",
              " 'type',\n",
              " 'specimen',\n",
              " 'book',\n",
              " 'survived',\n",
              " 'five',\n",
              " 'centuries',\n",
              " 'also',\n",
              " 'leap',\n",
              " 'electronic',\n",
              " 'typesetting',\n",
              " 'remaining',\n",
              " 'essentially',\n",
              " 'unchanged',\n",
              " 'popularised',\n",
              " '1960s',\n",
              " 'release',\n",
              " 'letraset',\n",
              " 'sheets',\n",
              " 'containing',\n",
              " 'lore',\n",
              " 'issue',\n",
              " 'passages',\n",
              " 'recently',\n",
              " 'desktop',\n",
              " 'publishing',\n",
              " 'software',\n",
              " 'like',\n",
              " 'albus',\n",
              " 'pagemaker',\n",
              " 'including',\n",
              " 'versions',\n",
              " 'lore',\n",
              " 'issue',\n",
              " 'use',\n",
              " 'long',\n",
              " 'established',\n",
              " 'fact',\n",
              " 'reader',\n",
              " 'distracted',\n",
              " 'readable',\n",
              " 'content',\n",
              " 'page',\n",
              " 'looking',\n",
              " 'layout',\n",
              " 'point',\n",
              " 'using',\n",
              " 'lore',\n",
              " 'issue',\n",
              " 'moreorless',\n",
              " 'normal',\n",
              " 'distribution',\n",
              " 'letters',\n",
              " 'opposed',\n",
              " 'using',\n",
              " 'content',\n",
              " 'content',\n",
              " 'making',\n",
              " 'look',\n",
              " 'like',\n",
              " 'readable',\n",
              " 'english',\n",
              " 'many',\n",
              " 'desktop',\n",
              " 'publishing',\n",
              " 'packages',\n",
              " 'web',\n",
              " 'page',\n",
              " 'editors',\n",
              " 'use',\n",
              " 'lore',\n",
              " 'issue',\n",
              " 'default',\n",
              " 'model',\n",
              " 'text',\n",
              " 'search',\n",
              " 'lore',\n",
              " 'issue',\n",
              " 'uncover',\n",
              " 'many',\n",
              " 'web',\n",
              " 'sites',\n",
              " 'still',\n",
              " 'infancy',\n",
              " 'various',\n",
              " 'versions',\n",
              " 'evolved',\n",
              " 'years',\n",
              " 'sometimes',\n",
              " 'accident',\n",
              " 'sometimes',\n",
              " 'purpose',\n",
              " 'injected',\n",
              " 'humour',\n",
              " 'like',\n",
              " 'data']"
            ]
          },
          "metadata": {},
          "execution_count": 17
        }
      ]
    },
    {
      "cell_type": "code",
      "source": [
        "### NLTK\n",
        "import nltk\n",
        "nltk.download('punkt')\n",
        "from nltk.tokenize import word_tokenize, sent_tokenize\n",
        "word_tokenize(data)"
      ],
      "metadata": {
        "colab": {
          "base_uri": "https://localhost:8080/"
        },
        "id": "nPsgw94vQc3K",
        "outputId": "3f81ce7c-f73b-4264-95e5-e9871451d197"
      },
      "execution_count": null,
      "outputs": [
        {
          "output_type": "stream",
          "name": "stderr",
          "text": [
            "[nltk_data] Downloading package punkt to /root/nltk_data...\n",
            "[nltk_data]   Unzipping tokenizers/punkt.zip.\n"
          ]
        },
        {
          "output_type": "execute_result",
          "data": {
            "text/plain": [
              "['lore',\n",
              " 'issue',\n",
              " 'lore',\n",
              " 'issue',\n",
              " 'simply',\n",
              " 'dummy',\n",
              " 'text',\n",
              " 'printing',\n",
              " 'typesetting',\n",
              " 'industry',\n",
              " 'lore',\n",
              " 'issue',\n",
              " 'industry',\n",
              " 'standard',\n",
              " 'dummy',\n",
              " 'text',\n",
              " 'ever',\n",
              " 'since',\n",
              " '1500s',\n",
              " 'unknown',\n",
              " 'printer',\n",
              " 'took',\n",
              " 'galley',\n",
              " 'type',\n",
              " 'scrambled',\n",
              " 'make',\n",
              " 'type',\n",
              " 'specimen',\n",
              " 'book',\n",
              " 'survived',\n",
              " 'five',\n",
              " 'centuries',\n",
              " 'also',\n",
              " 'leap',\n",
              " 'electronic',\n",
              " 'typesetting',\n",
              " 'remaining',\n",
              " 'essentially',\n",
              " 'unchanged',\n",
              " 'popularised',\n",
              " '1960s',\n",
              " 'release',\n",
              " 'letraset',\n",
              " 'sheets',\n",
              " 'containing',\n",
              " 'lore',\n",
              " 'issue',\n",
              " 'passages',\n",
              " 'recently',\n",
              " 'desktop',\n",
              " 'publishing',\n",
              " 'software',\n",
              " 'like',\n",
              " 'albus',\n",
              " 'pagemaker',\n",
              " 'including',\n",
              " 'versions',\n",
              " 'lore',\n",
              " 'issue',\n",
              " 'use',\n",
              " 'long',\n",
              " 'established',\n",
              " 'fact',\n",
              " 'reader',\n",
              " 'distracted',\n",
              " 'readable',\n",
              " 'content',\n",
              " 'page',\n",
              " 'looking',\n",
              " 'layout',\n",
              " 'point',\n",
              " 'using',\n",
              " 'lore',\n",
              " 'issue',\n",
              " 'moreorless',\n",
              " 'normal',\n",
              " 'distribution',\n",
              " 'letters',\n",
              " 'opposed',\n",
              " 'using',\n",
              " 'content',\n",
              " 'content',\n",
              " 'making',\n",
              " 'look',\n",
              " 'like',\n",
              " 'readable',\n",
              " 'english',\n",
              " 'many',\n",
              " 'desktop',\n",
              " 'publishing',\n",
              " 'packages',\n",
              " 'web',\n",
              " 'page',\n",
              " 'editors',\n",
              " 'use',\n",
              " 'lore',\n",
              " 'issue',\n",
              " 'default',\n",
              " 'model',\n",
              " 'text',\n",
              " 'search',\n",
              " 'lore',\n",
              " 'issue',\n",
              " 'uncover',\n",
              " 'many',\n",
              " 'web',\n",
              " 'sites',\n",
              " 'still',\n",
              " 'infancy',\n",
              " 'various',\n",
              " 'versions',\n",
              " 'evolved',\n",
              " 'years',\n",
              " 'sometimes',\n",
              " 'accident',\n",
              " 'sometimes',\n",
              " 'purpose',\n",
              " 'injected',\n",
              " 'humour',\n",
              " 'like',\n",
              " 'data']"
            ]
          },
          "metadata": {},
          "execution_count": 20
        }
      ]
    },
    {
      "cell_type": "code",
      "source": [
        "sent_tokenize(data)"
      ],
      "metadata": {
        "colab": {
          "base_uri": "https://localhost:8080/"
        },
        "id": "dhLo4ho8QoQ6",
        "outputId": "feaae9d1-db13-4723-b751-ceac64f669e8"
      },
      "execution_count": null,
      "outputs": [
        {
          "output_type": "execute_result",
          "data": {
            "text/plain": [
              "['  lore issue lore issue  simply dummy text   printing  typesetting industry lore issue    industry standard dummy text ever since  1500s   unknown printer took  galley  type  scrambled   make  type specimen book   survived   five centuries  also  leap  electronic typesetting remaining essentially unchanged   popularised   1960s   release  letraset sheets containing lore issue passages   recently  desktop publishing software like albus pagemaker including versions  lore issue    use     long established fact   reader   distracted   readable content   page  looking   layout  point  using lore issue      moreorless normal distribution  letters  opposed  using content  content  making  look like readable english many desktop publishing packages  web page editors  use lore issue   default model text   search  lore issue  uncover many web sites still   infancy various versions  evolved   years sometimes  accident sometimes  purpose injected humour   like  data']"
            ]
          },
          "metadata": {},
          "execution_count": 21
        }
      ]
    },
    {
      "cell_type": "code",
      "source": [
        "## spacy\n",
        "import spacy\n",
        "nlpins = spacy.load('en_core_web_sm')"
      ],
      "metadata": {
        "id": "mxoY10DlQ1UA"
      },
      "execution_count": null,
      "outputs": []
    },
    {
      "cell_type": "code",
      "source": [
        "for w in nlpins(data):\n",
        "  print(w)"
      ],
      "metadata": {
        "colab": {
          "base_uri": "https://localhost:8080/"
        },
        "id": "fkTLIl8TRHIO",
        "outputId": "e50ead66-7d69-4541-ca65-4832d8d8ad9f"
      },
      "execution_count": null,
      "outputs": [
        {
          "output_type": "stream",
          "name": "stdout",
          "text": [
            "  \n",
            "lore\n",
            "issue\n",
            "lore\n",
            "issue\n",
            " \n",
            "simply\n",
            "dummy\n",
            "text\n",
            "  \n",
            "printing\n",
            " \n",
            "typesetting\n",
            "industry\n",
            "lore\n",
            "issue\n",
            "   \n",
            "industry\n",
            "standard\n",
            "dummy\n",
            "text\n",
            "ever\n",
            "since\n",
            " \n",
            "1500s\n",
            "  \n",
            "unknown\n",
            "printer\n",
            "took\n",
            " \n",
            "galley\n",
            " \n",
            "type\n",
            " \n",
            "scrambled\n",
            "  \n",
            "make\n",
            " \n",
            "type\n",
            "specimen\n",
            "book\n",
            "  \n",
            "survived\n",
            "  \n",
            "five\n",
            "centuries\n",
            " \n",
            "also\n",
            " \n",
            "leap\n",
            " \n",
            "electronic\n",
            "typesetting\n",
            "remaining\n",
            "essentially\n",
            "unchanged\n",
            "  \n",
            "popularised\n",
            "  \n",
            "1960s\n",
            "  \n",
            "release\n",
            " \n",
            "letraset\n",
            "sheets\n",
            "containing\n",
            "lore\n",
            "issue\n",
            "passages\n",
            "  \n",
            "recently\n",
            " \n",
            "desktop\n",
            "publishing\n",
            "software\n",
            "like\n",
            "albus\n",
            "pagemaker\n",
            "including\n",
            "versions\n",
            " \n",
            "lore\n",
            "issue\n",
            "   \n",
            "use\n",
            "    \n",
            "long\n",
            "established\n",
            "fact\n",
            "  \n",
            "reader\n",
            "  \n",
            "distracted\n",
            "  \n",
            "readable\n",
            "content\n",
            "  \n",
            "page\n",
            " \n",
            "looking\n",
            "  \n",
            "layout\n",
            " \n",
            "point\n",
            " \n",
            "using\n",
            "lore\n",
            "issue\n",
            "     \n",
            "moreorless\n",
            "normal\n",
            "distribution\n",
            " \n",
            "letters\n",
            " \n",
            "opposed\n",
            " \n",
            "using\n",
            "content\n",
            " \n",
            "content\n",
            " \n",
            "making\n",
            " \n",
            "look\n",
            "like\n",
            "readable\n",
            "english\n",
            "many\n",
            "desktop\n",
            "publishing\n",
            "packages\n",
            " \n",
            "web\n",
            "page\n",
            "editors\n",
            " \n",
            "use\n",
            "lore\n",
            "issue\n",
            "  \n",
            "default\n",
            "model\n",
            "text\n",
            "  \n",
            "search\n",
            " \n",
            "lore\n",
            "issue\n",
            " \n",
            "uncover\n",
            "many\n",
            "web\n",
            "sites\n",
            "still\n",
            "  \n",
            "infancy\n",
            "various\n",
            "versions\n",
            " \n",
            "evolved\n",
            "  \n",
            "years\n",
            "sometimes\n",
            " \n",
            "accident\n",
            "sometimes\n",
            " \n",
            "purpose\n",
            "injected\n",
            "humour\n",
            "  \n",
            "like\n",
            " \n",
            "data\n"
          ]
        }
      ]
    },
    {
      "cell_type": "code",
      "source": [
        "## stemming\n",
        "from nltk.stem.porter import PorterStemmer\n",
        "psins = PorterStemmer()\n",
        "\n",
        "def stem_words(data):\n",
        "  return ' '.join([psins.stem(word) for word in data.split()])\n",
        "\n",
        "stem_words(data)"
      ],
      "metadata": {
        "colab": {
          "base_uri": "https://localhost:8080/",
          "height": 157
        },
        "id": "Kjh1Tx0VRPSy",
        "outputId": "04a63ee0-8d2c-455c-f65e-400c2caf629e"
      },
      "execution_count": null,
      "outputs": [
        {
          "output_type": "execute_result",
          "data": {
            "text/plain": [
              "'lore issu lore issu simpli dummi text print typeset industri lore issu industri standard dummi text ever sinc 1500 unknown printer took galley type scrambl make type specimen book surviv five centuri also leap electron typeset remain essenti unchang popularis 1960 releas letraset sheet contain lore issu passag recent desktop publish softwar like albu pagemak includ version lore issu use long establish fact reader distract readabl content page look layout point use lore issu moreorless normal distribut letter oppos use content content make look like readabl english mani desktop publish packag web page editor use lore issu default model text search lore issu uncov mani web site still infanc variou version evolv year sometim accid sometim purpos inject humour like data'"
            ],
            "application/vnd.google.colaboratory.intrinsic+json": {
              "type": "string"
            }
          },
          "metadata": {},
          "execution_count": 30
        }
      ]
    },
    {
      "cell_type": "code",
      "source": [
        "## lemmatization\n",
        "import nltk\n",
        "nltk.download('omw-1.4')\n",
        "nltk.download('wordnet')\n",
        "from nltk.stem import WordNetLemmatizer\n",
        "wordnet_lemmatizer = WordNetLemmatizer()\n",
        "\n",
        "\n",
        "punctuations=\"?:!.,;\"\n",
        "sentence_words = nltk.word_tokenize(data)\n",
        "for word in sentence_words:\n",
        "    if word in punctuations:\n",
        "        sentence_words.remove(word)\n",
        "\n",
        "sentence_words\n",
        "print(\"{0:20}{1:20}\".format(\"Word\",\"Lemma\"))\n",
        "for word in sentence_words:\n",
        "    print (\"{0:20}{1:20}\".format(word,wordnet_lemmatizer.lemmatize(word,pos='v')))"
      ],
      "metadata": {
        "colab": {
          "base_uri": "https://localhost:8080/"
        },
        "id": "PE1yJFQKSVM_",
        "outputId": "2bba6c68-94ea-4e64-f147-5a5253482fa2"
      },
      "execution_count": null,
      "outputs": [
        {
          "output_type": "stream",
          "name": "stdout",
          "text": [
            "Word                Lemma               \n",
            "lore                lore                \n",
            "issue               issue               \n",
            "lore                lore                \n",
            "issue               issue               \n",
            "simply              simply              \n",
            "dummy               dummy               \n",
            "text                text                \n",
            "printing            print               \n",
            "typesetting         typeset             \n",
            "industry            industry            \n",
            "lore                lore                \n",
            "issue               issue               \n",
            "industry            industry            \n",
            "standard            standard            \n",
            "dummy               dummy               \n",
            "text                text                \n",
            "ever                ever                \n",
            "since               since               \n",
            "1500s               1500s               \n",
            "unknown             unknown             \n",
            "printer             printer             \n",
            "took                take                \n",
            "galley              galley              \n",
            "type                type                \n",
            "scrambled           scramble            \n",
            "make                make                \n",
            "type                type                \n",
            "specimen            specimen            \n",
            "book                book                \n",
            "survived            survive             \n",
            "five                five                \n",
            "centuries           centuries           \n",
            "also                also                \n",
            "leap                leap                \n",
            "electronic          electronic          \n",
            "typesetting         typeset             \n",
            "remaining           remain              \n",
            "essentially         essentially         \n",
            "unchanged           unchanged           \n",
            "popularised         popularise          \n",
            "1960s               1960s               \n",
            "release             release             \n",
            "letraset            letraset            \n",
            "sheets              sheet               \n",
            "containing          contain             \n",
            "lore                lore                \n",
            "issue               issue               \n",
            "passages            passages            \n",
            "recently            recently            \n",
            "desktop             desktop             \n",
            "publishing          publish             \n",
            "software            software            \n",
            "like                like                \n",
            "albus               albus               \n",
            "pagemaker           pagemaker           \n",
            "including           include             \n",
            "versions            versions            \n",
            "lore                lore                \n",
            "issue               issue               \n",
            "use                 use                 \n",
            "long                long                \n",
            "established         establish           \n",
            "fact                fact                \n",
            "reader              reader              \n",
            "distracted          distract            \n",
            "readable            readable            \n",
            "content             content             \n",
            "page                page                \n",
            "looking             look                \n",
            "layout              layout              \n",
            "point               point               \n",
            "using               use                 \n",
            "lore                lore                \n",
            "issue               issue               \n",
            "moreorless          moreorless          \n",
            "normal              normal              \n",
            "distribution        distribution        \n",
            "letters             letter              \n",
            "opposed             oppose              \n",
            "using               use                 \n",
            "content             content             \n",
            "content             content             \n",
            "making              make                \n",
            "look                look                \n",
            "like                like                \n",
            "readable            readable            \n",
            "english             english             \n",
            "many                many                \n",
            "desktop             desktop             \n",
            "publishing          publish             \n",
            "packages            package             \n",
            "web                 web                 \n",
            "page                page                \n",
            "editors             editors             \n",
            "use                 use                 \n",
            "lore                lore                \n",
            "issue               issue               \n",
            "default             default             \n",
            "model               model               \n",
            "text                text                \n",
            "search              search              \n",
            "lore                lore                \n",
            "issue               issue               \n",
            "uncover             uncover             \n",
            "many                many                \n",
            "web                 web                 \n",
            "sites               sit                 \n",
            "still               still               \n",
            "infancy             infancy             \n",
            "various             various             \n",
            "versions            versions            \n",
            "evolved             evolve              \n",
            "years               years               \n",
            "sometimes           sometimes           \n",
            "accident            accident            \n",
            "sometimes           sometimes           \n",
            "purpose             purpose             \n",
            "injected            inject              \n",
            "humour              humour              \n",
            "like                like                \n",
            "data                data                \n"
          ]
        },
        {
          "output_type": "stream",
          "name": "stderr",
          "text": [
            "[nltk_data] Downloading package omw-1.4 to /root/nltk_data...\n",
            "[nltk_data]   Package omw-1.4 is already up-to-date!\n",
            "[nltk_data] Downloading package wordnet to /root/nltk_data...\n",
            "[nltk_data]   Package wordnet is already up-to-date!\n"
          ]
        }
      ]
    },
    {
      "cell_type": "code",
      "source": [
        ""
      ],
      "metadata": {
        "id": "ydjwBc4GU2_E"
      },
      "execution_count": null,
      "outputs": []
    }
  ]
}