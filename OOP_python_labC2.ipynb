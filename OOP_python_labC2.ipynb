{
  "nbformat": 4,
  "nbformat_minor": 0,
  "metadata": {
    "colab": {
      "name": "OOP_python_labC2.ipynb",
      "provenance": [],
      "authorship_tag": "ABX9TyOcQ78l2+JzN3nymvo7qBic",
      "include_colab_link": true
    },
    "kernelspec": {
      "name": "python3",
      "display_name": "Python 3"
    },
    "language_info": {
      "name": "python"
    }
  },
  "cells": [
    {
      "cell_type": "markdown",
      "metadata": {
        "id": "view-in-github",
        "colab_type": "text"
      },
      "source": [
        "<a href=\"https://colab.research.google.com/github/biplobsd/oop2-python/blob/main/OOP_python_labC2.ipynb\" target=\"_parent\"><img src=\"https://colab.research.google.com/assets/colab-badge.svg\" alt=\"Open In Colab\"/></a>"
      ]
    },
    {
      "cell_type": "code",
      "execution_count": 1,
      "metadata": {
        "colab": {
          "base_uri": "https://localhost:8080/"
        },
        "id": "enD2WNaEZDDu",
        "outputId": "c922a957-56bf-4d8e-faa6-c1abbf7b23dd"
      },
      "outputs": [
        {
          "output_type": "stream",
          "name": "stdout",
          "text": [
            "Enter a second: 3600\n",
            "Hour: 1 Minute: 0 Second: 0\n"
          ]
        }
      ],
      "source": [
        "## Second to time format h:m:s\n",
        "\n",
        "while True:\n",
        "    try:\n",
        "        userInputSecond = int(input('Enter a second: '))\n",
        "        break\n",
        "    except:\n",
        "        print('Please input a number')\n",
        "\n",
        "s = userInputSecond\n",
        "s = s % (24 * 3600)\n",
        "h = s // 3600\n",
        "s %= 3600\n",
        "m = s // 60\n",
        "s %= 60\n",
        "print(f'Hour: {h} Minute: {m} Second: {s}')"
      ]
    },
    {
      "cell_type": "code",
      "source": [
        "## Find prime number\n",
        "\n",
        "while True:\n",
        "    try:\n",
        "        inputs = int(input('Enter a number for check is Prime or not: '))\n",
        "        break\n",
        "    except:\n",
        "        print('Please input a number')\n",
        "\n",
        "\n",
        "flags = False\n",
        "for i in range(2, inputs):\n",
        "    if inputs%i == 0:\n",
        "        print(inputs, 'is not prime number')\n",
        "        flags = True\n",
        "        break \n",
        "\n",
        "if not flags:\n",
        "    print(inputs, 'is a prime number')\n",
        "\n"
      ],
      "metadata": {
        "colab": {
          "base_uri": "https://localhost:8080/"
        },
        "id": "bS_K7uijZOVU",
        "outputId": "db3a0155-6b3f-4651-f2e1-01e10cb7249a"
      },
      "execution_count": 2,
      "outputs": [
        {
          "output_type": "stream",
          "name": "stdout",
          "text": [
            "Enter a number for check is Prime or not: 3\n",
            "3 is a prime number\n"
          ]
        }
      ]
    },
    {
      "cell_type": "code",
      "source": [
        "## list remove\n",
        "alist = ['Biplob', 'Kumar', 'Sutradhar']\n",
        "alist.pop(2)\n",
        "print(' '.join(alist))"
      ],
      "metadata": {
        "colab": {
          "base_uri": "https://localhost:8080/"
        },
        "id": "H0pV_d8cZWWC",
        "outputId": "6029cb15-cf8e-49af-ddce-2296ce7067e9"
      },
      "execution_count": 3,
      "outputs": [
        {
          "output_type": "stream",
          "name": "stdout",
          "text": [
            "Biplob Kumar\n"
          ]
        }
      ]
    },
    {
      "cell_type": "code",
      "source": [
        "## Print name using for loop\n",
        "print(' '.join([i for i in 'Biplob Kumar Sutradhar']))"
      ],
      "metadata": {
        "colab": {
          "base_uri": "https://localhost:8080/"
        },
        "id": "UNCT3joFZbLa",
        "outputId": "1b16a81b-4401-4718-a263-c0c102b33a56"
      },
      "execution_count": 4,
      "outputs": [
        {
          "output_type": "stream",
          "name": "stdout",
          "text": [
            "B i p l o b   K u m a r   S u t r a d h a r\n"
          ]
        }
      ]
    }
  ]
}