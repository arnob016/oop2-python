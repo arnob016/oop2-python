{
  "nbformat": 4,
  "nbformat_minor": 0,
  "metadata": {
    "colab": {
      "name": "OOPII Labtask2.ipynb",
      "provenance": [],
      "collapsed_sections": [
        "SR_3iSGmD7gq",
        "1LSQH1jOD91Y",
        "audVJGSgEC6r",
        "ITqco5j5EIqi",
        "FvsyOtPOEKUK"
      ]
    },
    "kernelspec": {
      "name": "python3",
      "display_name": "Python 3"
    },
    "language_info": {
      "name": "python"
    }
  },
  "cells": [
    {
      "cell_type": "markdown",
      "source": [
        "# OOP II Lab Task 2\n",
        "```\n",
        "Object Oriented Programming Lab 2\n",
        "Section: PC-B\n",
        "Completed by : Biplob Kumar Sutradhar (203-15-3923)\n",
        "```\n",
        "#### Daffodil International University"
      ],
      "metadata": {
        "id": "nnuWVfo-lSew"
      }
    },
    {
      "cell_type": "markdown",
      "source": [
        "# Task1 (a)"
      ],
      "metadata": {
        "id": "1LSQH1jOD91Y"
      }
    },
    {
      "cell_type": "code",
      "execution_count": null,
      "metadata": {
        "colab": {
          "base_uri": "https://localhost:8080/"
        },
        "id": "u7tbPPTDBTHT",
        "outputId": "3127d117-39de-4e64-dc17-cd3a9e65153e"
      },
      "outputs": [
        {
          "output_type": "stream",
          "name": "stdout",
          "text": [
            "24, 18, 12, 6, 0, -6\n"
          ]
        }
      ],
      "source": [
        "counter = 24\n",
        "\n",
        "outputs = []\n",
        "while counter >= -6:\n",
        "  outputs.append(str(counter))\n",
        "  counter -= 6\n",
        "\n",
        "print(\", \".join(outputs))\n"
      ]
    },
    {
      "cell_type": "markdown",
      "source": [
        "# Task1 (b)"
      ],
      "metadata": {
        "id": "audVJGSgEC6r"
      }
    },
    {
      "cell_type": "code",
      "source": [
        "counter = -10\n",
        "\n",
        "outputs = []\n",
        "while counter <= 20:\n",
        "  outputs.append(str(counter))\n",
        "  counter += 5\n",
        "\n",
        "print(\", \".join(outputs))"
      ],
      "metadata": {
        "colab": {
          "base_uri": "https://localhost:8080/"
        },
        "id": "b-olV4UYCmct",
        "outputId": "cdc4f339-8bcd-4de8-81f2-dc920f0fadac"
      },
      "execution_count": null,
      "outputs": [
        {
          "output_type": "stream",
          "name": "stdout",
          "text": [
            "-10, -5, 0, 5, 10, 15, 20\n"
          ]
        }
      ]
    },
    {
      "cell_type": "markdown",
      "source": [
        "# Task1 (c)"
      ],
      "metadata": {
        "id": "ITqco5j5EIqi"
      }
    },
    {
      "cell_type": "code",
      "source": [
        "counter = 18\n",
        "\n",
        "outputs = []\n",
        "while counter <= 63:\n",
        "  outputs.append(str(counter))\n",
        "  counter += 9\n",
        "\n",
        "print(\", \".join(outputs))"
      ],
      "metadata": {
        "colab": {
          "base_uri": "https://localhost:8080/"
        },
        "id": "vEgaZnJAC-0g",
        "outputId": "d59dcc24-494d-4554-e424-9c5afaf8534b"
      },
      "execution_count": null,
      "outputs": [
        {
          "output_type": "stream",
          "name": "stdout",
          "text": [
            "18, 27, 36, 45, 54, 63\n"
          ]
        }
      ]
    },
    {
      "cell_type": "markdown",
      "source": [
        "# Task1 (d)"
      ],
      "metadata": {
        "id": "FvsyOtPOEKUK"
      }
    },
    {
      "cell_type": "code",
      "source": [
        "counter = 18\n",
        "\n",
        "outputs = []\n",
        "i = 0\n",
        "while counter <= 63:\n",
        "  o = str(counter)\n",
        "  outputs.append(o if i%2==0 else '-'+o)\n",
        "  i+=1\n",
        "  counter += 9\n",
        "\n",
        "print(\", \".join(outputs))"
      ],
      "metadata": {
        "colab": {
          "base_uri": "https://localhost:8080/"
        },
        "id": "Gws0Y1SMDLs4",
        "outputId": "9fa537ab-2f4f-45d8-a1a3-8fe2f6e3e372"
      },
      "execution_count": null,
      "outputs": [
        {
          "output_type": "stream",
          "name": "stdout",
          "text": [
            "18, -27, 36, -45, 54, -63\n"
          ]
        }
      ]
    },
    {
      "cell_type": "markdown",
      "source": [
        "# Task 2"
      ],
      "metadata": {
        "id": "JwVpI7QzEMLa"
      }
    },
    {
      "cell_type": "code",
      "source": [
        "carName, numberOfTimePrint = input(), int(input())\n",
        "print((carName+'\\n')*numberOfTimePrint, end='')"
      ],
      "metadata": {
        "colab": {
          "base_uri": "https://localhost:8080/"
        },
        "id": "Frg1QCuSDmjz",
        "outputId": "8dd4a64c-c2db-4c48-f0e5-9dc22ecc60f6"
      },
      "execution_count": null,
      "outputs": [
        {
          "output_type": "stream",
          "name": "stdout",
          "text": [
            "Veyron\n",
            "5\n",
            "Veyron\n",
            "Veyron\n",
            "Veyron\n",
            "Veyron\n",
            "Veyron\n"
          ]
        }
      ]
    },
    {
      "cell_type": "markdown",
      "source": [
        "# Task 3"
      ],
      "metadata": {
        "id": "Z6zFxj2FFDEy"
      }
    },
    {
      "cell_type": "code",
      "source": [
        "total = 0\n",
        "for n in range(600+1):\n",
        "  if n%7==0 and n%9==0:\n",
        "    total += n\n",
        "print(total)"
      ],
      "metadata": {
        "colab": {
          "base_uri": "https://localhost:8080/"
        },
        "id": "ybd8xrXEEy1b",
        "outputId": "9f126a22-868e-4807-9db0-1fa791ce4ee4"
      },
      "execution_count": null,
      "outputs": [
        {
          "output_type": "stream",
          "name": "stdout",
          "text": [
            "2835\n"
          ]
        }
      ]
    },
    {
      "cell_type": "markdown",
      "source": [
        "# Task 4"
      ],
      "metadata": {
        "id": "Gv9nZROlFiXS"
      }
    },
    {
      "cell_type": "code",
      "source": [
        "total = 0\n",
        "for n in range(600+1):\n",
        "  isD7 = n%7==0\n",
        "  isD9 = n%9==0\n",
        "  if (isD7 or isD9) and not (isD7 and isD9):\n",
        "    total += n\n",
        "print(total)"
      ],
      "metadata": {
        "colab": {
          "base_uri": "https://localhost:8080/"
        },
        "id": "dQbtfxWkFfNK",
        "outputId": "4522e2ff-be6a-4af5-a13f-4332162e9478"
      },
      "execution_count": null,
      "outputs": [
        {
          "output_type": "stream",
          "name": "stdout",
          "text": [
            "39814\n"
          ]
        }
      ]
    },
    {
      "cell_type": "markdown",
      "source": [
        "# Task 5"
      ],
      "metadata": {
        "id": "gskk0twnF-fi"
      }
    },
    {
      "cell_type": "code",
      "source": [
        "print(' '.join([str(o) for o in range(10+1, 50) if o%2!=0]))"
      ],
      "metadata": {
        "colab": {
          "base_uri": "https://localhost:8080/"
        },
        "id": "PasPwbRKF6mq",
        "outputId": "2540a6df-70f3-44c8-94b0-fb4afd59b130"
      },
      "execution_count": null,
      "outputs": [
        {
          "output_type": "stream",
          "name": "stdout",
          "text": [
            "11 13 15 17 19 21 23 25 27 29 31 33 35 37 39 41 43 45 47 49\n"
          ]
        }
      ]
    },
    {
      "cell_type": "markdown",
      "source": [
        "# Task 6"
      ],
      "metadata": {
        "id": "4DVat6h7HcNC"
      }
    },
    {
      "cell_type": "code",
      "source": [
        "import math\n",
        "powList = [round(math.pow(o, 2)) for o in range(1, int(input())+1)]\n",
        "total = 0\n",
        "for i,n in  enumerate(powList):\n",
        "  if i%2==0:\n",
        "    total += n\n",
        "  else:\n",
        "    total -= n\n",
        "print(total)\n"
      ],
      "metadata": {
        "colab": {
          "base_uri": "https://localhost:8080/"
        },
        "id": "Oe4h7kf8GcHu",
        "outputId": "8ce4a158-8038-4881-f5b6-f805be25188b"
      },
      "execution_count": null,
      "outputs": [
        {
          "output_type": "stream",
          "name": "stdout",
          "text": [
            "20\n",
            "-210\n"
          ]
        }
      ]
    },
    {
      "cell_type": "markdown",
      "source": [
        "# Task 7"
      ],
      "metadata": {
        "id": "YxFCKXUUJfbD"
      }
    },
    {
      "cell_type": "code",
      "source": [
        "oddNumberCount = 0\n",
        "oddNumberTotal = 0\n",
        "for _ in range(10):\n",
        "  userInput = int(input())\n",
        "  if userInput%2 != 0:\n",
        "    oddNumberTotal += userInput\n",
        "    oddNumberCount += 1\n",
        "print(f'The total of the odd numbers is {oddNumberTotal} and their average is {oddNumberTotal/oddNumberCount}')"
      ],
      "metadata": {
        "colab": {
          "base_uri": "https://localhost:8080/"
        },
        "id": "tISf4vrAIa_E",
        "outputId": "3410c1e0-724d-4bc1-877b-2824aae90be9"
      },
      "execution_count": null,
      "outputs": [
        {
          "output_type": "stream",
          "name": "stdout",
          "text": [
            "1\n",
            "2\n",
            "3\n",
            "4\n",
            "5\n",
            "6\n",
            "7\n",
            "8\n",
            "9\n",
            "10\n",
            "The total of the odd numbers is 25 and their average is 5.0\n"
          ]
        }
      ]
    },
    {
      "cell_type": "markdown",
      "source": [
        "# Task 8"
      ],
      "metadata": {
        "id": "oN7QPKc5KoMy"
      }
    },
    {
      "cell_type": "code",
      "source": [
        "total = 0\n",
        "for n in range(1, int(input())):\n",
        "  if n%7 == 0:\n",
        "    total += n\n",
        "print(total)\n"
      ],
      "metadata": {
        "colab": {
          "base_uri": "https://localhost:8080/"
        },
        "id": "8DGWS9mYKqOB",
        "outputId": "9ccecdf0-38d0-4c8f-dadf-e80b62047794"
      },
      "execution_count": null,
      "outputs": [
        {
          "output_type": "stream",
          "name": "stdout",
          "text": [
            "50\n",
            "196\n"
          ]
        }
      ]
    },
    {
      "cell_type": "markdown",
      "source": [
        "# Task 9"
      ],
      "metadata": {
        "id": "ZKAUy-lqL4J7"
      }
    },
    {
      "cell_type": "code",
      "source": [
        "userInputList = [int(input()) for _ in range(5)]\n",
        "for i in range(1, 5+1):\n",
        "  total = 0\n",
        "  for n in userInputList[:i]:\n",
        "    total += n\n",
        "  print(total)"
      ],
      "metadata": {
        "colab": {
          "base_uri": "https://localhost:8080/"
        },
        "id": "PjPpRb2dL1WR",
        "outputId": "bc9a6e8e-257f-4374-a787-9c0690fd7fe9"
      },
      "execution_count": null,
      "outputs": [
        {
          "output_type": "stream",
          "name": "stdout",
          "text": [
            "11\n",
            "-29\n",
            "-3\n",
            "47\n",
            "50\n",
            "11\n",
            "-18\n",
            "-21\n",
            "26\n",
            "76\n"
          ]
        }
      ]
    },
    {
      "cell_type": "markdown",
      "source": [
        "# Task 10"
      ],
      "metadata": {
        "id": "8Z-u3FVVNPPa"
      }
    },
    {
      "cell_type": "code",
      "source": [
        "userInput = int(input())\n",
        "outputList = []\n",
        "while userInput>0:\n",
        "  outputList.append(str(userInput%10))\n",
        "  userInput //= 10\n",
        "print(', '.join(outputList))"
      ],
      "metadata": {
        "colab": {
          "base_uri": "https://localhost:8080/"
        },
        "id": "G0Bd7a9VM2Kz",
        "outputId": "1fbb2eca-e326-4907-a2e7-c74241260647"
      },
      "execution_count": null,
      "outputs": [
        {
          "output_type": "stream",
          "name": "stdout",
          "text": [
            "32768\n",
            "8, 6, 7, 2, 3\n"
          ]
        }
      ]
    },
    {
      "cell_type": "markdown",
      "source": [
        "# Task 11"
      ],
      "metadata": {
        "id": "DC4Kate8Ob7R"
      }
    },
    {
      "cell_type": "code",
      "source": [
        "userInput = int(input())\n",
        "\n",
        "lenUserInput = 0\n",
        "while userInput>0:\n",
        "  userInput%10\n",
        "  userInput //= 10\n",
        "  lenUserInput += 1\n",
        "print(lenUserInput)"
      ],
      "metadata": {
        "colab": {
          "base_uri": "https://localhost:8080/"
        },
        "id": "cZ6NJz_-OTEK",
        "outputId": "950147e8-d4e8-4832-c309-419326c50d76"
      },
      "execution_count": null,
      "outputs": [
        {
          "output_type": "stream",
          "name": "stdout",
          "text": [
            "9876\n",
            "4\n"
          ]
        }
      ]
    },
    {
      "cell_type": "markdown",
      "source": [
        "# Task 12"
      ],
      "metadata": {
        "id": "bfq5QYWlOyIi"
      }
    },
    {
      "cell_type": "code",
      "source": [
        "userInput = int(input())\n",
        "outputList = []\n",
        "while userInput>0:\n",
        "  outputList.append(str(userInput%10))\n",
        "  userInput //= 10\n",
        "print(', '.join(outputList[::-1]))"
      ],
      "metadata": {
        "colab": {
          "base_uri": "https://localhost:8080/"
        },
        "id": "wPjRHvUGOz6y",
        "outputId": "dea30f06-7043-4092-9c3c-c94eade91e8b"
      },
      "execution_count": null,
      "outputs": [
        {
          "output_type": "stream",
          "name": "stdout",
          "text": [
            "3548\n",
            "3, 5, 4, 8\n"
          ]
        }
      ]
    },
    {
      "cell_type": "markdown",
      "source": [
        "## Task 13"
      ],
      "metadata": {
        "id": "PwRgpw5aPPZC"
      }
    },
    {
      "cell_type": "code",
      "source": [
        "userInput = int(input())\n",
        "outputList = []\n",
        "for n in range(1, userInput+1):\n",
        "  if userInput%n==0:\n",
        "    outputList.append(str(n))\n",
        "\n",
        "print(', '.join(outputList))\n",
        "print(f'Total {len(outputList)} divisors.')\n"
      ],
      "metadata": {
        "colab": {
          "base_uri": "https://localhost:8080/"
        },
        "id": "FrAJ_iAHPAHZ",
        "outputId": "c962b3ae-e675-4b89-e3c2-717248c2de1f"
      },
      "execution_count": null,
      "outputs": [
        {
          "output_type": "stream",
          "name": "stdout",
          "text": [
            "121\n",
            "1, 11, 121\n",
            "Total 3 divisors.\n"
          ]
        }
      ]
    },
    {
      "cell_type": "markdown",
      "source": [
        "# Task 14"
      ],
      "metadata": {
        "id": "MLanATTXQmjq"
      }
    },
    {
      "cell_type": "code",
      "source": [
        "userInput = int(input())\n",
        "outputList = []\n",
        "for n in range(1, userInput+1):\n",
        "  if userInput%n==0:\n",
        "    outputList.append(n)\n",
        "    \n",
        "print(userInput, f\"is{'' if sum(outputList[:-1]) == userInput else ' not'} a perfect number\")\n"
      ],
      "metadata": {
        "colab": {
          "base_uri": "https://localhost:8080/"
        },
        "id": "xr9u4nyyQez7",
        "outputId": "0a3c7bb3-0340-4a8d-f9de-d85dd34dfbd5"
      },
      "execution_count": null,
      "outputs": [
        {
          "output_type": "stream",
          "name": "stdout",
          "text": [
            "33\n",
            "33 is not a perfect number\n"
          ]
        }
      ]
    },
    {
      "cell_type": "markdown",
      "source": [
        "# Task 15"
      ],
      "metadata": {
        "id": "wekaaOZHSrgT"
      }
    },
    {
      "cell_type": "code",
      "source": [
        "userInput = int(input())\n",
        "flag = False\n",
        "for n in range(2, userInput):\n",
        "  if userInput%n==0:\n",
        "    flag = True\n",
        "    break\n",
        "\n",
        "print(userInput, f\"is{' not' if flag else ''} a prime number\")\n",
        "    "
      ],
      "metadata": {
        "colab": {
          "base_uri": "https://localhost:8080/"
        },
        "id": "K_Curn3NRU9L",
        "outputId": "ab9eb941-1c88-40b5-b0eb-ff966714b921"
      },
      "execution_count": null,
      "outputs": [
        {
          "output_type": "stream",
          "name": "stdout",
          "text": [
            "6\n",
            "6 is not a prime number\n"
          ]
        }
      ]
    },
    {
      "cell_type": "markdown",
      "source": [
        "# Task 16"
      ],
      "metadata": {
        "id": "18DU4EmpTgS6"
      }
    },
    {
      "cell_type": "code",
      "source": [
        "maxNumber = 0\n",
        "minNumber = 0\n",
        "userNumberRangeInput = int(input())\n",
        "total = 0\n",
        "for _ in range(userNumberRangeInput):\n",
        "  userInput = int(input())\n",
        "  total += userInput\n",
        "  if _ == 0:\n",
        "    maxNumber, minNumber = userInput, userInput\n",
        "  else:\n",
        "    if userInput > maxNumber:\n",
        "      maxNumber = userInput\n",
        "    \n",
        "    if userInput < minNumber:\n",
        "      minNumber = userInput\n",
        "\n",
        "print('Maximum', maxNumber, '\\nMinimum', minNumber, '\\nAverage is', total/userNumberRangeInput)\n",
        "    "
      ],
      "metadata": {
        "colab": {
          "base_uri": "https://localhost:8080/"
        },
        "id": "a6Z3gSI5TZm-",
        "outputId": "3bd51f36-e10f-4640-85e6-373926855258"
      },
      "execution_count": null,
      "outputs": [
        {
          "output_type": "stream",
          "name": "stdout",
          "text": [
            "5\n",
            "10\n",
            "4\n",
            "-1\n",
            "-100\n",
            "1\n",
            "Maximum 10 \n",
            "Minimum -100 \n",
            "Average is -17.2\n"
          ]
        }
      ]
    },
    {
      "cell_type": "markdown",
      "source": [
        "# Task 17"
      ],
      "metadata": {
        "id": "4U-CxgJiWfzD"
      }
    },
    {
      "cell_type": "code",
      "source": [
        "userInput = int(input())\n",
        "for _ in range(userInput):\n",
        "  for _ in range(userInput):\n",
        "    print('+', end='')\n",
        "  print()"
      ],
      "metadata": {
        "colab": {
          "base_uri": "https://localhost:8080/"
        },
        "id": "OyrqTdEaVHNM",
        "outputId": "cf46c673-19fc-49f1-f044-b3ac58875040"
      },
      "execution_count": null,
      "outputs": [
        {
          "output_type": "stream",
          "name": "stdout",
          "text": [
            "5\n",
            "+++++\n",
            "+++++\n",
            "+++++\n",
            "+++++\n",
            "+++++\n"
          ]
        }
      ]
    },
    {
      "cell_type": "markdown",
      "source": [
        "# Task 18"
      ],
      "metadata": {
        "id": "ucVjyabYWxXr"
      }
    },
    {
      "cell_type": "code",
      "source": [
        "y, rangeNumber  = int(input()), int(input())\n",
        "for _ in range(y):\n",
        "  for rN in range(1, rangeNumber+1):\n",
        "    print(rN, end='')\n",
        "  print()"
      ],
      "metadata": {
        "colab": {
          "base_uri": "https://localhost:8080/"
        },
        "id": "DBZcYURYWt3D",
        "outputId": "2cad7851-d563-420a-8eac-838b78a0aeee"
      },
      "execution_count": null,
      "outputs": [
        {
          "output_type": "stream",
          "name": "stdout",
          "text": [
            "4\n",
            "6\n",
            "123456\n",
            "123456\n",
            "123456\n",
            "123456\n"
          ]
        }
      ]
    },
    {
      "cell_type": "markdown",
      "source": [
        "# Task 19"
      ],
      "metadata": {
        "id": "TzEZSaeRXu-T"
      }
    },
    {
      "cell_type": "code",
      "source": [
        "xy = int(input())\n",
        "for _ in range(1, xy+1):\n",
        "  for rN in range(1, _+1):\n",
        "    print(rN, end='')\n",
        "  print()"
      ],
      "metadata": {
        "colab": {
          "base_uri": "https://localhost:8080/"
        },
        "id": "ysbbwEWaXeFs",
        "outputId": "a976cd41-bd7c-4a26-ea12-126bab40d2fd"
      },
      "execution_count": null,
      "outputs": [
        {
          "output_type": "stream",
          "name": "stdout",
          "text": [
            "4\n",
            "1\n",
            "12\n",
            "123\n",
            "1234\n"
          ]
        }
      ]
    },
    {
      "cell_type": "markdown",
      "source": [
        "# Task 22"
      ],
      "metadata": {
        "id": "cexe9YkUYVNM"
      }
    },
    {
      "cell_type": "code",
      "source": [
        "x = 0\n",
        "p = 0\n",
        "sum = 0\n",
        "p = 1\n",
        "x = 2\n",
        "q = None\n",
        "sum = 0\n",
        "while p < 12:\n",
        "  q = x + p - (sum + 7 / 3) / 3.0 % 2\n",
        "  sum = sum + x + int(q)\n",
        "  x += 1\n",
        "  print(sum)\n",
        "  if x > 5:\n",
        "    p += 4 / 2\n",
        "  else:\n",
        "    p += (3 % 1)\n",
        "sum = int(sum + p)\n",
        "print(sum)\n"
      ],
      "metadata": {
        "colab": {
          "base_uri": "https://localhost:8080/"
        },
        "id": "vZ17B-WdX8Zr",
        "outputId": "5ed9dbd5-1264-44f6-ce78-1d4d601ad79f"
      },
      "execution_count": null,
      "outputs": [
        {
          "output_type": "stream",
          "name": "stdout",
          "text": [
            "4\n",
            "10\n",
            "18\n",
            "28\n",
            "42\n",
            "60\n",
            "82\n",
            "108\n",
            "138\n",
            "151\n"
          ]
        }
      ]
    },
    {
      "cell_type": "markdown",
      "source": [
        "# Task 21"
      ],
      "metadata": {
        "id": "nVBtR6kcZN0C"
      }
    },
    {
      "cell_type": "code",
      "source": [
        "x = 0\n",
        "p = 0\n",
        "sum = 0\n",
        "p = 1\n",
        "x = 2\n",
        "q = 0.0\n",
        "sum = 0\n",
        "while (p < 10):\n",
        "  q = x + p - (sum + int(5 / 3)) / 3.0 % 2\n",
        "  sum = sum + x + int(q)\n",
        "  x += 1\n",
        "  print(sum)\n",
        "  if (x > 5) :\n",
        "    p += int(4 / 2)\n",
        "  else:\n",
        "    p += 3 % 1\n",
        "sum = sum + p\n",
        "print(sum)"
      ],
      "metadata": {
        "colab": {
          "base_uri": "https://localhost:8080/"
        },
        "id": "ch6zvu29ZAoL",
        "outputId": "e7534e68-609a-470c-c232-dd335aea682a"
      },
      "execution_count": null,
      "outputs": [
        {
          "output_type": "stream",
          "name": "stdout",
          "text": [
            "4\n",
            "9\n",
            "16\n",
            "25\n",
            "39\n",
            "56\n",
            "78\n",
            "104\n",
            "115\n"
          ]
        }
      ]
    },
    {
      "cell_type": "markdown",
      "source": [
        "# Task 22"
      ],
      "metadata": {
        "id": "5H3fty7JZr6b"
      }
    },
    {
      "cell_type": "code",
      "source": [
        "x = y = 0\n",
        "sum = 0\n",
        "while (x < 10):\n",
        "  y = x - 3\n",
        "  while (y < 3):\n",
        "    sum = x - y * 2\n",
        "    print(sum)\n",
        "    y = y + 1\n",
        "  if (x > 7):\n",
        "    x += 1\n",
        "  else:\n",
        "    x += 3\n",
        "sum = x - y * 2\n",
        "print(sum)"
      ],
      "metadata": {
        "colab": {
          "base_uri": "https://localhost:8080/"
        },
        "id": "4WkHoXH6Zqf7",
        "outputId": "e95717da-83e1-49f2-dbf5-968091fb39e6"
      },
      "execution_count": null,
      "outputs": [
        {
          "output_type": "stream",
          "name": "stdout",
          "text": [
            "6\n",
            "4\n",
            "2\n",
            "0\n",
            "-2\n",
            "-4\n",
            "3\n",
            "1\n",
            "-1\n",
            "-2\n"
          ]
        }
      ]
    },
    {
      "cell_type": "markdown",
      "source": [
        "# Task 23"
      ],
      "metadata": {
        "id": "vJ8qz0YBaBry"
      }
    },
    {
      "cell_type": "code",
      "source": [
        "x = 0\n",
        "y = 0\n",
        "sum = 0\n",
        "p = 0.0\n",
        "while (x < 10):\n",
        "  y = x // 2\n",
        "  while (y < x):\n",
        "    p = (x + 10.0) / 2\n",
        "    sum = (sum % 2) + x - y * 2 + int(p)\n",
        "    print(sum)\n",
        "    y = y + 2\n",
        "  if (x > 5):\n",
        "    x += 1\n",
        "  else:\n",
        "    x += 2"
      ],
      "metadata": {
        "colab": {
          "base_uri": "https://localhost:8080/"
        },
        "id": "xAsebpzCaAMC",
        "outputId": "b3468f60-45ae-46fa-bf65-97d413446765"
      },
      "execution_count": null,
      "outputs": [
        {
          "output_type": "stream",
          "name": "stdout",
          "text": [
            "6\n",
            "7\n",
            "9\n",
            "5\n",
            "10\n",
            "5\n",
            "10\n",
            "5\n",
            "11\n",
            "7\n",
            "3\n"
          ]
        }
      ]
    },
    {
      "cell_type": "markdown",
      "source": [
        "# Task 24"
      ],
      "metadata": {
        "id": "ZH2vOLg4ad7z"
      }
    },
    {
      "cell_type": "code",
      "source": [
        "test = 1\n",
        "j = 0\n",
        "k = 100\n",
        "while (k > 0):\n",
        "  while ( j < k ):\n",
        "    test = k + j -21\n",
        "    print(str(1 + int (test / 2)))\n",
        "    j += 10\n",
        "  k -= 10\n",
        "test = 1\n",
        "j = 0\n",
        "k = 100"
      ],
      "metadata": {
        "colab": {
          "base_uri": "https://localhost:8080/"
        },
        "id": "PV4hArQ2aa7s",
        "outputId": "9c7bbf9f-2c5b-4550-ebf6-80891bb903e2"
      },
      "execution_count": null,
      "outputs": [
        {
          "output_type": "stream",
          "name": "stdout",
          "text": [
            "40\n",
            "45\n",
            "50\n",
            "55\n",
            "60\n",
            "65\n",
            "70\n",
            "75\n",
            "80\n",
            "85\n"
          ]
        }
      ]
    },
    {
      "cell_type": "markdown",
      "source": [
        "# Task 25"
      ],
      "metadata": {
        "id": "k2ay0-Xraw2L"
      }
    },
    {
      "cell_type": "code",
      "source": [
        "nterms = int(input())\n",
        "n1, n2 = 0, 1\n",
        "\n",
        "while n1 < nterms:\n",
        "    print(n1, end=' ')\n",
        "    nth = n1 + n2\n",
        "    n1 = n2\n",
        "    n2 = nth"
      ],
      "metadata": {
        "colab": {
          "base_uri": "https://localhost:8080/"
        },
        "id": "j2Q_YDMWavBM",
        "outputId": "3e080262-fd38-47ca-f479-3adbdfe30998"
      },
      "execution_count": null,
      "outputs": [
        {
          "output_type": "stream",
          "name": "stdout",
          "text": [
            "10\n",
            "0 1 1 2 3 5 8 "
          ]
        }
      ]
    },
    {
      "cell_type": "markdown",
      "source": [
        "# Task 26"
      ],
      "metadata": {
        "id": "O48Uwehjb_b7"
      }
    },
    {
      "cell_type": "code",
      "source": [
        "userInput = int(input())\n",
        "reminderList = []\n",
        "\n",
        "while userInput > 0:\n",
        "  reminderList.append(str(userInput%2))\n",
        "  userInput //= 2\n",
        "print(''.join(reminderList[::-1]))"
      ],
      "metadata": {
        "colab": {
          "base_uri": "https://localhost:8080/"
        },
        "id": "WS4Sm855bhhw",
        "outputId": "abfecde5-87e9-46ca-f836-602a8fca9872"
      },
      "execution_count": null,
      "outputs": [
        {
          "output_type": "stream",
          "name": "stdout",
          "text": [
            "13\n",
            "1101\n"
          ]
        }
      ]
    },
    {
      "cell_type": "markdown",
      "source": [
        "# Task 27"
      ],
      "metadata": {
        "id": "oDDL6jZfc9wb"
      }
    },
    {
      "cell_type": "code",
      "source": [
        "import math\n",
        "userInputList = input()\n",
        "total = 0\n",
        "lenUserInput  = len(list(userInputList))-1\n",
        "for i, n in enumerate(userInputList):\n",
        "  total += math.pow(2, lenUserInput-i)*int(n)\n",
        "print(round(total))"
      ],
      "metadata": {
        "colab": {
          "base_uri": "https://localhost:8080/"
        },
        "id": "E3WfE6ggc0gO",
        "outputId": "75a0e5d0-212f-4e3a-fcb1-a8781796b17e"
      },
      "execution_count": null,
      "outputs": [
        {
          "output_type": "stream",
          "name": "stdout",
          "text": [
            "11101\n",
            "29\n"
          ]
        }
      ]
    },
    {
      "cell_type": "markdown",
      "source": [
        "# Task 28"
      ],
      "metadata": {
        "id": "pTvtNiR-euxd"
      }
    },
    {
      "cell_type": "code",
      "source": [
        "from math import fsum\n",
        "\n",
        "def isPrime(userInput):\n",
        "  for n in range(2, userInput):\n",
        "    if userInput%n==0:\n",
        "      return False\n",
        "  return True\n",
        "\n",
        "def isPerfect(userInput):\n",
        "  outputList = []\n",
        "  for n in range(1, userInput+1):\n",
        "    if userInput%n==0:\n",
        "      outputList.append(n)\n",
        "  return fsum(outputList[:-1]) == userInput\n",
        "\n",
        "primeNumberList = []\n",
        "perfectNumberList = []\n",
        "\n",
        "x, y = int(input()), int(input())\n",
        "for n in range(x, y+1):\n",
        "  if isPrime(n):\n",
        "    primeNumberList.append(str(n))\n",
        "  if isPerfect(n):\n",
        "    perfectNumberList.append(str(n))\n",
        "\n",
        "print(f'Between {x} and {y},')\n",
        "print(f'Found {len(primeNumberList)} prime numbers')\n",
        "print(f'Found {len(perfectNumberList)} perfect numbers')\n",
        "print('Prime numbers:', ', '.join(primeNumberList))\n",
        "print('Perfect numbers:', ', '.join(perfectNumberList))"
      ],
      "metadata": {
        "colab": {
          "base_uri": "https://localhost:8080/"
        },
        "id": "AigETE5Td9SM",
        "outputId": "1a467a40-4bc4-4492-c7e8-9ecab8fdc382"
      },
      "execution_count": 1,
      "outputs": [
        {
          "output_type": "stream",
          "name": "stdout",
          "text": [
            "2\n",
            "6\n",
            "Between 2 and 6,\n",
            "Found 3 prime numbers\n",
            "Found 1 perfect numbers\n",
            "Prime numbers: 2, 3, 5\n",
            "Perfect numbers: 6\n"
          ]
        }
      ]
    },
    {
      "cell_type": "markdown",
      "source": [
        "# Task 29"
      ],
      "metadata": {
        "id": "L0cYETnmiVyf"
      }
    },
    {
      "cell_type": "code",
      "source": [
        "from numpy import prod\n",
        "x, y, z = int(input()), int(input()), int(input())\n",
        "for n in range(x, y+1):\n",
        "  listNum = list(map(int, str(n)))\n",
        "  number = prod(listNum)\n",
        "  if number%z==0:\n",
        "    print(number, end=' ')"
      ],
      "metadata": {
        "colab": {
          "base_uri": "https://localhost:8080/"
        },
        "id": "2x_eDHuIg4-w",
        "outputId": "671a86d2-da6d-4778-9f11-676fe700ee95"
      },
      "execution_count": null,
      "outputs": [
        {
          "output_type": "stream",
          "name": "stdout",
          "text": [
            "351\n",
            "356\n",
            "9\n",
            "45 90 "
          ]
        }
      ]
    }
  ]
}