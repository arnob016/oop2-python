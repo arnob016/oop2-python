{
  "nbformat": 4,
  "nbformat_minor": 0,
  "metadata": {
    "colab": {
      "name": "OOPL2_Labtask1.ipynb",
      "provenance": [],
      "collapsed_sections": []
    },
    "kernelspec": {
      "name": "python3",
      "display_name": "Python 3"
    },
    "language_info": {
      "name": "python"
    }
  },
  "cells": [
    {
      "cell_type": "markdown",
      "source": [
        "# OOP II Lab Task 1\n",
        "```\n",
        "Object Oriented Programming Lab 2\n",
        "Section: PC-B\n",
        "Completed by : Biplob Kumar Sutradhar (203-15-3923)\n",
        "```\n",
        "Daffodil International University "
      ],
      "metadata": {
        "id": "KEvt6e0ekiq6"
      }
    },
    {
      "cell_type": "markdown",
      "source": [
        "## Task 1"
      ],
      "metadata": {
        "id": "OAqMOcpmSVnU"
      }
    },
    {
      "cell_type": "code",
      "execution_count": null,
      "metadata": {
        "id": "K9bqiJP0Pzj_",
        "colab": {
          "base_uri": "https://localhost:8080/"
        },
        "outputId": "dbf2a937-70fc-45c1-a9b7-6ea3201eed54"
      },
      "outputs": [
        {
          "output_type": "stream",
          "name": "stdout",
          "text": [
            "1\n",
            "3\n",
            "Sum = 4\n",
            "Product = 3\n",
            "Difference  = -2\n"
          ]
        }
      ],
      "source": [
        "var1, var2 = input(), input()\n",
        "var1, var2 = int(var1), int(var2)\n",
        "\n",
        "print(\"Sum =\", var1+var2)\n",
        "print(\"Product =\", var1*var2)\n",
        "print(\"Difference  =\", var1-var2)"
      ]
    },
    {
      "cell_type": "markdown",
      "source": [
        "## Task 2\n"
      ],
      "metadata": {
        "id": "Uw0j_G5GUkE6"
      }
    },
    {
      "cell_type": "code",
      "source": [
        "import math\n",
        "pi = math.pi\n",
        "r = int(input())\n",
        "\n",
        "print(f\"Area is {pi*math.pow(r, 2)}\\nCircumference is {2*pi*r}\")"
      ],
      "metadata": {
        "id": "nKclrAjvRTnA",
        "colab": {
          "base_uri": "https://localhost:8080/"
        },
        "outputId": "3e971187-7ddf-4fef-a2c8-8b42902bb42a"
      },
      "execution_count": null,
      "outputs": [
        {
          "output_type": "stream",
          "name": "stdout",
          "text": [
            "4\n",
            "Area is 50.26548245743669\n",
            "Circumference is 25.132741228718345\n"
          ]
        }
      ]
    },
    {
      "cell_type": "markdown",
      "source": [
        "## Task 3"
      ],
      "metadata": {
        "id": "I6eLJyHwVxM5"
      }
    },
    {
      "cell_type": "code",
      "source": [
        "a = int(input())\n",
        "b = int(input())\n",
        "\n",
        "if a>b:\n",
        "  print(\"First is greater\")\n",
        "elif b>a:\n",
        "  print(\"Second is greater\")\n",
        "else:\n",
        "  print(\"The numbers are equal\")"
      ],
      "metadata": {
        "id": "3hQyG8AtSKVX",
        "colab": {
          "base_uri": "https://localhost:8080/"
        },
        "outputId": "8873d806-3190-43df-f488-d1e0dea68118"
      },
      "execution_count": null,
      "outputs": [
        {
          "output_type": "stream",
          "name": "stdout",
          "text": [
            "7\n",
            "3\n",
            "First is greater\n"
          ]
        }
      ]
    },
    {
      "cell_type": "markdown",
      "source": [
        "## Task 4"
      ],
      "metadata": {
        "id": "3EeTx-4tWAbx"
      }
    },
    {
      "cell_type": "code",
      "source": [
        "a = int(input())\n",
        "b = int(input())\n",
        "\n",
        "x = max(a, b)\n",
        "y = min(a, b)\n",
        "\n",
        "print(x-y)"
      ],
      "metadata": {
        "id": "Cs1F6VU-Sw_h",
        "colab": {
          "base_uri": "https://localhost:8080/"
        },
        "outputId": "b7855fa9-ea7a-4638-e1ea-a520f53c1bae"
      },
      "execution_count": null,
      "outputs": [
        {
          "output_type": "stream",
          "name": "stdout",
          "text": [
            "5\n",
            "5\n",
            "0\n"
          ]
        }
      ]
    },
    {
      "cell_type": "markdown",
      "source": [
        "## Task 5"
      ],
      "metadata": {
        "id": "0lLMdNReWeHK"
      }
    },
    {
      "cell_type": "code",
      "source": [
        "a = int(input())\n",
        "if a%2==0:\n",
        "  print(\"The number is even\")\n",
        "else:\n",
        "  print(\"The number is odd\")"
      ],
      "metadata": {
        "id": "RpKqBakgTBlo",
        "colab": {
          "base_uri": "https://localhost:8080/"
        },
        "outputId": "4865d0ea-9ab4-40c8-b923-c1b4b45910dc"
      },
      "execution_count": null,
      "outputs": [
        {
          "output_type": "stream",
          "name": "stdout",
          "text": [
            "4\n",
            "The number is even\n"
          ]
        }
      ]
    },
    {
      "cell_type": "markdown",
      "source": [
        "## Task 6"
      ],
      "metadata": {
        "id": "YiRXlDR2Wr5Z"
      }
    },
    {
      "cell_type": "code",
      "source": [
        "a = int(input())\n",
        "if a%2==0 or a%5==0:\n",
        "  print(a)\n",
        "else:\n",
        "  print(\"Not a multiple of 2 OR 5\")"
      ],
      "metadata": {
        "id": "7xblPfl3TXZU",
        "colab": {
          "base_uri": "https://localhost:8080/"
        },
        "outputId": "46ade4b3-0ffc-405d-cfad-9d0f1da2fb77"
      },
      "execution_count": null,
      "outputs": [
        {
          "output_type": "stream",
          "name": "stdout",
          "text": [
            "3\n",
            "Not a multiple of 2 OR 5\n"
          ]
        }
      ]
    },
    {
      "cell_type": "markdown",
      "source": [
        "## Task 7"
      ],
      "metadata": {
        "id": "lb83Dge6XFHB"
      }
    },
    {
      "cell_type": "code",
      "source": [
        "a = int(input())\n",
        "a2 = a%2 == 0\n",
        "a5 = a%5 == 0\n",
        "\n",
        "if a2 or a5:\n",
        "  if a2 and a5:\n",
        "    print(\"Multiple of 2 and 5 both\")\n",
        "  else:\n",
        "    print(a)\n",
        "else:\n",
        "  print(\"Not a multiple we want\")"
      ],
      "metadata": {
        "colab": {
          "base_uri": "https://localhost:8080/"
        },
        "id": "-fE1C7pyT2v7",
        "outputId": "c5c9e311-6928-49fb-a7f0-369a032cc3b9"
      },
      "execution_count": null,
      "outputs": [
        {
          "output_type": "stream",
          "name": "stdout",
          "text": [
            "10\n",
            "Multiple of 2 and 5 both\n"
          ]
        }
      ]
    },
    {
      "cell_type": "markdown",
      "source": [
        "## Task 8"
      ],
      "metadata": {
        "id": "pv6GLNeGX_7o"
      }
    },
    {
      "cell_type": "code",
      "source": [
        "a = int(input())\n",
        "if a%2 == 0 and a%5 == 0:\n",
        "  print(a)\n",
        "else:\n",
        "  print(\"Not a multiple of 2 OR 5 both\")"
      ],
      "metadata": {
        "id": "-gKv8FLoUVBW",
        "colab": {
          "base_uri": "https://localhost:8080/"
        },
        "outputId": "f550d91d-cc7c-40c1-d799-8c2782da64eb"
      },
      "execution_count": null,
      "outputs": [
        {
          "output_type": "stream",
          "name": "stdout",
          "text": [
            "15\n",
            "Not a multiple of 2 OR 5 both\n"
          ]
        }
      ]
    },
    {
      "cell_type": "markdown",
      "source": [
        "## Task 9"
      ],
      "metadata": {
        "id": "wm9B567XYL9Q"
      }
    },
    {
      "cell_type": "code",
      "source": [
        "import math \n",
        "a = int(input())\n",
        "\n",
        "hour = a//3600\n",
        "extraH = a%3600\n",
        "min =  extraH//60\n",
        "sec = extraH%60\n",
        "\n",
        "print(f\"Hours: {hour} Minutes: {min} Seconds: {sec}\")"
      ],
      "metadata": {
        "id": "gGHAy_caUopN",
        "colab": {
          "base_uri": "https://localhost:8080/"
        },
        "outputId": "21b82185-572e-4493-c6d5-984f92a0f875"
      },
      "execution_count": null,
      "outputs": [
        {
          "output_type": "stream",
          "name": "stdout",
          "text": [
            "500\n",
            "Hours: 0 Minutes: 8 Seconds: 20\n"
          ]
        }
      ]
    },
    {
      "cell_type": "markdown",
      "source": [
        "## Task 10"
      ],
      "metadata": {
        "id": "gUcH6BX3YsuY"
      }
    },
    {
      "cell_type": "code",
      "source": [
        "a = int(input())\n",
        "\n",
        "if a >= 0 and a <= 168:\n",
        "  if a <= 40:\n",
        "    print(a*200)\n",
        "  else:\n",
        "    print(8000+(a-40)*300)\n",
        "elif a<0:\n",
        "  print('Hour cannot be negative')\n",
        "else:\n",
        "  print(\"Impossible to work more than 168 hours weekly\")"
      ],
      "metadata": {
        "id": "kxZIUn-1WK20",
        "colab": {
          "base_uri": "https://localhost:8080/"
        },
        "outputId": "185ba4c6-24a4-4c5c-c7b5-4d76b4ad66a7"
      },
      "execution_count": null,
      "outputs": [
        {
          "output_type": "stream",
          "name": "stdout",
          "text": [
            "170\n",
            "Impossible to work more than 168 hours weekly\n"
          ]
        }
      ]
    },
    {
      "cell_type": "markdown",
      "source": [
        "## Task 11"
      ],
      "metadata": {
        "id": "Kiq9cqCLaoo_"
      }
    },
    {
      "cell_type": "code",
      "source": [
        "import math\n",
        "s = int(input())\n",
        "spow = math.pow(s, 2)\n",
        "\n",
        "if s<100:\n",
        "  l = 3000-125*spow\n",
        "else:\n",
        "  l = 12000/(4+(spow/14900))\n",
        "\n",
        "if str(l)[-2:] == '.0':\n",
        "  print(str(l)[:-2])\n",
        "else:\n",
        "  print(l)"
      ],
      "metadata": {
        "id": "c5aQ2W5xXR8h",
        "colab": {
          "base_uri": "https://localhost:8080/"
        },
        "outputId": "0330ee34-4cf3-407f-e7d2-b30d94f29873"
      },
      "execution_count": null,
      "outputs": [
        {
          "output_type": "stream",
          "name": "stdout",
          "text": [
            "120\n",
            "2416.2162162162163\n"
          ]
        }
      ]
    },
    {
      "cell_type": "markdown",
      "source": [
        "## Task 12"
      ],
      "metadata": {
        "id": "A9H2cmjscy0X"
      }
    },
    {
      "cell_type": "code",
      "source": [
        "s = int(input())\n",
        "\n",
        "if s>=0 and s<=23:\n",
        "  if s>=4 and s<=6:\n",
        "    print(\"Breakfast\")\n",
        "  elif s==12 or s==13:\n",
        "    print(\"Lunch\")\n",
        "  elif s==16 or s==17:\n",
        "    print(\"Snacks\")\n",
        "  elif s==19 or s==20:\n",
        "    print(\"Dinner\")\n",
        "  else: \n",
        "    print(\"Patience is a virtue\")\n",
        "else:\n",
        "  print(\"Wrong Time\")"
      ],
      "metadata": {
        "id": "betrTRLcYFEo",
        "colab": {
          "base_uri": "https://localhost:8080/"
        },
        "outputId": "f793b052-5046-4fe4-e004-df0eb52971b3"
      },
      "execution_count": null,
      "outputs": [
        {
          "output_type": "stream",
          "name": "stdout",
          "text": [
            "-1\n",
            "Wrong Time\n"
          ]
        }
      ]
    },
    {
      "cell_type": "markdown",
      "source": [
        "## Task 13"
      ],
      "metadata": {
        "id": "RnCE5ENBeMjF"
      }
    },
    {
      "cell_type": "code",
      "source": [
        "s = int(input())\n",
        "\n",
        "if s<0 or s>100:\n",
        "  print(\"Invalid mark\")\n",
        "else:\n",
        "  if s<50:\n",
        "    print(\"F\")\n",
        "  elif s>=50 and s<60:\n",
        "    print(\"E\")\n",
        "  elif s>=60 and s<70:\n",
        "    print(\"D\")\n",
        "  elif s>=70 and s<80:\n",
        "    print(\"C\")\n",
        "  elif s>=80 and s<90:\n",
        "    print(\"B\")\n",
        "  elif s>=90:\n",
        "    print(\"A\")\n",
        "  "
      ],
      "metadata": {
        "id": "g5nY6rxKaBg4",
        "colab": {
          "base_uri": "https://localhost:8080/"
        },
        "outputId": "14deaaca-fc01-4822-ada1-b5b5a0f1a870"
      },
      "execution_count": null,
      "outputs": [
        {
          "output_type": "stream",
          "name": "stdout",
          "text": [
            "50\n",
            "E\n"
          ]
        }
      ]
    },
    {
      "cell_type": "markdown",
      "source": [
        "## Task 14"
      ],
      "metadata": {
        "id": "FkvtaC4qehLU"
      }
    },
    {
      "cell_type": "code",
      "source": [
        "#Task 14\n",
        "\n",
        "d = int(input())/1000\n",
        "t = int(input())/3600\n",
        "\n",
        "s= d/t\n",
        "print(f\"{s} km/h\")\n",
        "if s<60:\n",
        "  print(\"Too slow. Needs more changes.\")\n",
        "elif s>=60 and s<=90:\n",
        "  print(\"Velocity is okay. The car is ready!\")\n",
        "else:\n",
        "  print(\"Too fast. Only a few changes should suffice.\")"
      ],
      "metadata": {
        "id": "jUUgBztZa9wF",
        "colab": {
          "base_uri": "https://localhost:8080/"
        },
        "outputId": "bf7a7348-ca18-4160-efab-4dc501e2efc0"
      },
      "execution_count": null,
      "outputs": [
        {
          "output_type": "stream",
          "name": "stdout",
          "text": [
            "160000\n",
            "7200\n",
            "80.0 km/h\n",
            "Velocity is okay. The car is ready!\n"
          ]
        }
      ]
    },
    {
      "cell_type": "markdown",
      "source": [
        "## Task 15"
      ],
      "metadata": {
        "id": "OH1mcKcJfGTl"
      }
    },
    {
      "cell_type": "code",
      "source": [
        "d = float(input())\n",
        "s = float(input())\n",
        "\n",
        "if d<0 or d>4:\n",
        "  print(\"Invalid input\")\n",
        "elif d<3.80 or s<30:\n",
        "  print(\"The student is not eligible for a waiver\")\n",
        "else:\n",
        "  if d>=3.80 and d<=3.89:\n",
        "    print(\"The student is eligible for a waiver of 25 percent\")\n",
        "  elif d>=3.90 and d<=3.94:\n",
        "    print(\"The student is eligible for a waiver of 50 percent\")\n",
        "  elif d>=3.95 and d<=3.99:\n",
        "    print(\"The student is eligible for a waiver of 75 percent\")\n",
        "  elif d==4.00:\n",
        "    print(\"The student is eligible for a waiver of 100 percent\")"
      ],
      "metadata": {
        "id": "p3ReF16Db7HL",
        "colab": {
          "base_uri": "https://localhost:8080/"
        },
        "outputId": "2be68ec7-5687-4df2-ec87-5fa5d1d5238d"
      },
      "execution_count": null,
      "outputs": [
        {
          "output_type": "stream",
          "name": "stdout",
          "text": [
            "3.93\n",
            "78\n",
            "The student is eligible for a waiver of 50 percent\n"
          ]
        }
      ]
    },
    {
      "cell_type": "markdown",
      "source": [
        "## Task 16"
      ],
      "metadata": {
        "id": "fIE-w5lJfX3V"
      }
    },
    {
      "cell_type": "code",
      "source": [
        "p = 5\n",
        "q = 6\n",
        "r = 9\n",
        "sum = 0\n",
        "if (p < 12):\n",
        "  print(r + 2)\n",
        "else:\n",
        "  print(r + p)\n",
        "if (q > 20):\n",
        "  print(r + 19)\n",
        "elif (q <= 6):\n",
        "  print(q + 3)\n",
        "else:\n",
        "  print(p + q + r)\n",
        "if (r > 15):\n",
        "  print(r)\n",
        "elif (r == 0):\n",
        "  print(p + q)\n",
        "else:\n",
        "  print(p)\n",
        "if (sum != 0):\n",
        "  print(3)\n",
        "else:\n",
        "  print(sum + 32)\n",
        "if (p>0 and r<10):\n",
        "  print(p+r)\n",
        "else:\n",
        "  print(p-r)"
      ],
      "metadata": {
        "id": "VKolK72rfPny",
        "colab": {
          "base_uri": "https://localhost:8080/"
        },
        "outputId": "a509a185-1e37-4bba-c2e0-5b262448da94"
      },
      "execution_count": null,
      "outputs": [
        {
          "output_type": "stream",
          "name": "stdout",
          "text": [
            "11\n",
            "9\n",
            "5\n",
            "32\n",
            "14\n"
          ]
        }
      ]
    },
    {
      "cell_type": "markdown",
      "source": [
        "## Task 17"
      ],
      "metadata": {
        "id": "81pbHMlnf7_k"
      }
    },
    {
      "cell_type": "code",
      "source": [
        "var1 = var2 = var3 = var4 = var5 = var6 = False\n",
        "result1 = False\n",
        "result2 = False\n",
        "result3 = False\n",
        "result4 = False\n",
        "result5 = False\n",
        "result6 = False\n",
        "result7 = False\n",
        "result8 = False\n",
        "result9 = False\n",
        "result10 = False\n",
        "var1 = 4 > 3 - 1\n",
        "var2 = var1 and False\n",
        "var3 = True\n",
        "var4 = False\n",
        "var5 = True\n",
        "var6 = var3 and False\n",
        "result1 = (var1 or var2) and (8 * 10 > 45)\n",
        "result2 = (var1 or var2) and (result1 and False)\n",
        "result3 = (var1 and result1) or result2\n",
        "result4 = (var1 or var2) or ((var3 and var1) and False)\n",
        "result5 = (var1 and var2) and (result3 or var1)\n",
        "result6 = ((var3 or var2) and not(result5)) or True\n",
        "result7 = (var4 and result1) and ((result1 and False) or True)\n",
        "result8 = ((var1 and result3) and (var5 or var6)) and True\n",
        "result9 = ((result2 and var2) or (result7 and var1)) and False\n",
        "result10 = not(var1 and True)\n",
        "print(result1,result2,result3,result4,result5,result6,result7,result8,result9,result10)\n"
      ],
      "metadata": {
        "id": "BoLk6vIbf3uT",
        "colab": {
          "base_uri": "https://localhost:8080/"
        },
        "outputId": "7310dd25-9c11-4271-9313-0c7d4d17b460"
      },
      "execution_count": null,
      "outputs": [
        {
          "output_type": "stream",
          "name": "stdout",
          "text": [
            "True False True True False True False True False False\n"
          ]
        }
      ]
    },
    {
      "cell_type": "markdown",
      "source": [
        "## Task 18"
      ],
      "metadata": {
        "id": "5mKZDODMgCu0"
      }
    },
    {
      "cell_type": "code",
      "source": [
        "var1 = False\n",
        "var2 = False\n",
        "var3 = False\n",
        "var4 = False\n",
        "var5 = False\n",
        "var6 = False\n",
        "result1 = False\n",
        "result2 = False\n",
        "result3 = False\n",
        "result4 = False\n",
        "result5 = False\n",
        "result6 = False\n",
        "result7 = False\n",
        "result8 = False\n",
        "result9 = False\n",
        "result10 = False\n",
        "var1 = ((not True) or True) and False\n",
        "var2 = var1 and False\n",
        "var3 = True and not False\n",
        "var4 = False\n",
        "var5 = True\n",
        "var6 = var3 and False\n",
        "result1 = (var1 and var2) and (40 % 3) > 45 or (var5 and var6)\n",
        "result2 = (var1 or var2) or (result1 and False)\n",
        "result3 = (var1 and result1) or result2 or var5\n",
        "result4 = (var1 or var2) or ((var3 and var1) and False)\n",
        "result5 = (var1 and var2) and (result3 or var1)\n",
        "result6 = ((var3 or (not var2)) and (result5)) or True\n",
        "result7 = (var4 and result1) and ((result1 and False) or True)\n",
        "result8 = ((var1 and result3) and ((not var5) or var6)) and True\n",
        "result9 = ((result2 and var2) or ((not result7) and var1)) and not False\n",
        "result10 = not(var1 and True)\n",
        "print(result1,result2,result3,result4,result5,result6,result7,result8,result9,result10)"
      ],
      "metadata": {
        "id": "dxb-ToYjgUzM",
        "colab": {
          "base_uri": "https://localhost:8080/"
        },
        "outputId": "e25c4bbe-7ad1-4545-dfd6-d5fe99e8daf0"
      },
      "execution_count": null,
      "outputs": [
        {
          "output_type": "stream",
          "name": "stdout",
          "text": [
            "False False True False False True False False False True\n"
          ]
        }
      ]
    },
    {
      "cell_type": "markdown",
      "source": [
        "## Task 19"
      ],
      "metadata": {
        "id": "LVgDaGjxgLzs"
      }
    },
    {
      "cell_type": "code",
      "source": [
        "var1 = var2 = var3 = var4 = var5 = var6 = False\n",
        "result1 = result2 = result3 = result4 = result5 = result6 = False\n",
        "result7 = result8 = result9 = result10 = False\n",
        "var1 = (not False or False) and True\n",
        "var2 = var1 and True\n",
        "var3 = False and not True\n",
        "var4 = True\n",
        "var5 = False\n",
        "var6 = var3 and True\n",
        "result1 = (var1 and var2) and ( 40 % 3 > 45) or (var5 and var6)\n",
        "result2 = (var1 or var2) or (result1 and False)\n",
        "result3 = (var1 and result1) or result2 or var5\n",
        "result4 = (var1 or var2) or ((var3 and var1) and False)\n",
        "result5 = (var1 and var2) and (result3 or var1)\n",
        "result6 = ((var3 or not var2) and (result5)) or True\n",
        "result7 = (var4 and result1) and ((result1 and False) or True)\n",
        "result8 = ((var1 and result3) and (not var5 or var6)) and True\n",
        "result9 = ((result2 and var2) or (not result7 and var1)) and not False\n",
        "result10 = not (var1 and True)\n",
        "print(result1,result2,result3,result4,result5,result6,result7,result8,result9,result10)"
      ],
      "metadata": {
        "colab": {
          "base_uri": "https://localhost:8080/"
        },
        "id": "ePA7lwEugfHr",
        "outputId": "bc13d625-0721-4e7b-8eaf-23594c616096"
      },
      "execution_count": null,
      "outputs": [
        {
          "output_type": "stream",
          "name": "stdout",
          "text": [
            "False True True True True True False True True False\n"
          ]
        }
      ]
    },
    {
      "cell_type": "markdown",
      "source": [
        "## Task 20"
      ],
      "metadata": {
        "id": "up6UD02Uga-s"
      }
    },
    {
      "cell_type": "code",
      "source": [
        "a = int(input())\n",
        "\n",
        "if not a%2==0 or a%5==0:\n",
        "  print(a)\n",
        "else:\n",
        "  print(\"No\")"
      ],
      "metadata": {
        "colab": {
          "base_uri": "https://localhost:8080/"
        },
        "id": "Y0J9L0iGgxV5",
        "outputId": "af460709-bbc8-4a23-e0c4-20dd45e2e6db"
      },
      "execution_count": null,
      "outputs": [
        {
          "output_type": "stream",
          "name": "stdout",
          "text": [
            "3\n",
            "3\n"
          ]
        }
      ]
    },
    {
      "cell_type": "markdown",
      "source": [
        "## Task 21"
      ],
      "metadata": {
        "id": "inOx6803gd-M"
      }
    },
    {
      "cell_type": "code",
      "source": [
        "a = int(input())\n",
        "\n",
        "if a%2==0 and a%5==0:\n",
        "  print(\"No\")\n",
        "else: print(a)"
      ],
      "metadata": {
        "colab": {
          "base_uri": "https://localhost:8080/"
        },
        "id": "fsOL64YVhG_V",
        "outputId": "83acce6a-8527-4c81-e2ad-d07d09c3c75e"
      },
      "execution_count": null,
      "outputs": [
        {
          "output_type": "stream",
          "name": "stdout",
          "text": [
            "19\n",
            "19\n"
          ]
        }
      ]
    },
    {
      "cell_type": "markdown",
      "source": [
        "## Task 22"
      ],
      "metadata": {
        "id": "nobdGEPigi6l"
      }
    },
    {
      "cell_type": "code",
      "source": [
        "a = 120 * int(input())\n",
        "b =  75 * int(input())\n",
        "sum = a+b\n",
        "if sum<300:\n",
        "  disc=sum\n",
        "elif sum>=300 and sum<500:\n",
        "  disc=sum-10\n",
        "elif sum>=500 and sum<750:\n",
        "  disc=sum-20\n",
        "elif sum>=750 and sum<1000:\n",
        "  disc=sum-50\n",
        "else:\n",
        "  disc= sum-150\n",
        "\n",
        "print(f\"Previous total: {sum}\")\n",
        "print(f\"New total after discount: {disc}\")"
      ],
      "metadata": {
        "colab": {
          "base_uri": "https://localhost:8080/"
        },
        "id": "hvBeL-0XhlEx",
        "outputId": "c63c96d6-c797-45ac-f309-46a8e7723656"
      },
      "execution_count": null,
      "outputs": [
        {
          "output_type": "stream",
          "name": "stdout",
          "text": [
            "5\n",
            "8\n",
            "Previous total: 1200\n",
            "New total after discount: 1050\n"
          ]
        }
      ]
    },
    {
      "cell_type": "markdown",
      "source": [
        "## Task 23"
      ],
      "metadata": {
        "id": "ILidWjJdg0dL"
      }
    },
    {
      "cell_type": "code",
      "source": [
        "import math\n",
        "\n",
        "f= int(input())\n",
        "c = (f-32)*0.561\n",
        "c = math.floor(c)\n",
        "print(f\"{c} degrees C\")\n",
        "\n",
        "if c<20:\n",
        "  print(\"Winter\")\n",
        "elif c>=20 and c<=25:\n",
        "  print(\"Autumn\")\n",
        "elif c>25 and c<30:\n",
        "  print(\"Spring\")\n",
        "else:\n",
        "  print(\"Summer\")"
      ],
      "metadata": {
        "colab": {
          "base_uri": "https://localhost:8080/"
        },
        "id": "ae8bN4onjl9N",
        "outputId": "524f78fc-15b4-4493-e3a7-b9f373789b0a"
      },
      "execution_count": null,
      "outputs": [
        {
          "output_type": "stream",
          "name": "stdout",
          "text": [
            "32\n",
            "0 degrees C\n",
            "Winter\n"
          ]
        }
      ]
    }
  ]
}