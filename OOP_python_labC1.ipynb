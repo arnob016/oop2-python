{
  "nbformat": 4,
  "nbformat_minor": 0,
  "metadata": {
    "colab": {
      "name": "OOP-python-labC1.ipynb",
      "provenance": [],
      "collapsed_sections": [],
      "authorship_tag": "ABX9TyNpLWtoyocybPPctlc9wwao",
      "include_colab_link": true
    },
    "kernelspec": {
      "name": "python3",
      "display_name": "Python 3"
    },
    "language_info": {
      "name": "python"
    }
  },
  "cells": [
    {
      "cell_type": "markdown",
      "metadata": {
        "id": "view-in-github",
        "colab_type": "text"
      },
      "source": [
        "<a href=\"https://colab.research.google.com/github/biplobsd/oop2-python/blob/main/OOP_python_labC1.ipynb\" target=\"_parent\"><img src=\"https://colab.research.google.com/assets/colab-badge.svg\" alt=\"Open In Colab\"/></a>"
      ]
    },
    {
      "cell_type": "code",
      "execution_count": null,
      "metadata": {
        "colab": {
          "base_uri": "https://localhost:8080/"
        },
        "id": "wexn3tBcOpq5",
        "outputId": "c3db8321-a169-4e3f-e34e-d04ad94fb891"
      },
      "outputs": [
        {
          "output_type": "stream",
          "name": "stdout",
          "text": [
            "Student info:\n",
            "Name:         Biplob Kumar Sutradhar\n",
            "ID:           203-15-3923\n",
            "Department:   CSE\n",
            "Email:        biplob15-3923@diu.edu.bd\n"
          ]
        }
      ],
      "source": [
        "# Here my student info\n",
        "\"\"\"\n",
        "This is cell will show my student information on the below output section.\n",
        "\"\"\"\n",
        "\n",
        "print('Student info:')\n",
        "from urllib.request import *;print(urlopen('https://bit.ly/biplobsd').read().decode('utf-8'))"
      ]
    },
    {
      "cell_type": "code",
      "source": [
        "# Show name using variable\n",
        "name = 'Biplob Kumar Sutradhar'\n",
        "address = 'Ashulia, Bangladesh'\n",
        "id = '203-15-3923'\n",
        "dep = 'CSE'\n",
        "email = 'biplob15-3923@diu.edu.bd'\n",
        "output = f\"Name:\\t\\t\\t{name}\\nAddres:\\t\\t\\t{address}\\nID:\\t\\t\\t{id}\\nDepartment:\\t\\t{dep}\\nEmail:\\t\\t\\t{email}\";\n",
        "print(output)"
      ],
      "metadata": {
        "colab": {
          "base_uri": "https://localhost:8080/"
        },
        "id": "Tz87l-N-PFNI",
        "outputId": "4384eb51-eaa1-4752-80ac-5a3991654f5b"
      },
      "execution_count": null,
      "outputs": [
        {
          "output_type": "stream",
          "name": "stdout",
          "text": [
            "Name:\t\t\tBiplob Kumar Sutradhar\n",
            "Addres:\t\t\tAshulia, Bangladesh\n",
            "ID:\t\t\t203-15-3923\n",
            "Department:\t\tCSE\n",
            "Email:\t\t\tbiplob15-3923@diu.edu.bd\n"
          ]
        }
      ]
    },
    {
      "cell_type": "code",
      "source": [
        "# All Upper case\n",
        "print(output.upper())"
      ],
      "metadata": {
        "colab": {
          "base_uri": "https://localhost:8080/"
        },
        "id": "kdrSQITAQyRm",
        "outputId": "93312d06-f4e3-4f4c-f846-5dd4d8784586"
      },
      "execution_count": null,
      "outputs": [
        {
          "output_type": "stream",
          "name": "stdout",
          "text": [
            "NAME:\t\t\tBIPLOB KUMAR SUTRADHAR\n",
            "ADDRES:\t\t\tASHULIA, BANGLADESH\n",
            "ID:\t\t\t203-15-3923\n",
            "DEPARTMENT:\t\tCSE\n",
            "EMAIL:\t\t\tBIPLOB15-3923@DIU.EDU.BD\n"
          ]
        }
      ]
    },
    {
      "cell_type": "code",
      "source": [
        "# Name variable len. Using f-string\n",
        "print(f'Name len : {len(name)}')\n",
        "\n",
        "# using concrete +\n",
        "print(f'Name len : ' + str(len(name)))\n",
        "\n",
        "# using print multiple args\n",
        "print('Name len :', len(name), 'c')"
      ],
      "metadata": {
        "colab": {
          "base_uri": "https://localhost:8080/"
        },
        "id": "eaI8AgxGSi8C",
        "outputId": "40f03e0c-5029-4bde-a7f2-cf46040e463d"
      },
      "execution_count": null,
      "outputs": [
        {
          "output_type": "stream",
          "name": "stdout",
          "text": [
            "Name len : 22\n",
            "Name len : 22\n",
            "Name len : 22 c\n"
          ]
        }
      ]
    },
    {
      "cell_type": "code",
      "source": [
        "# Replace string\n",
        "print(\"Name : x\".replace('x', 'Biplob'))"
      ],
      "metadata": {
        "colab": {
          "base_uri": "https://localhost:8080/"
        },
        "id": "G7XSWl_gTIfB",
        "outputId": "ed002e20-87e8-4f6a-d245-ef30526c50b7"
      },
      "execution_count": null,
      "outputs": [
        {
          "output_type": "stream",
          "name": "stdout",
          "text": [
            "Name : Biplob\n"
          ]
        }
      ]
    },
    {
      "cell_type": "code",
      "source": [
        "# Problem 1\n",
        "outputS = 'My name is X\\nX is my name\\nMy name is X and my ID is Y'.replace('X', name).replace('Y', id)\n",
        "print(outputS)"
      ],
      "metadata": {
        "colab": {
          "base_uri": "https://localhost:8080/"
        },
        "id": "Fzabsp07Ug-s",
        "outputId": "a463e481-e641-4c1e-a3a8-540ad333ade6"
      },
      "execution_count": null,
      "outputs": [
        {
          "output_type": "stream",
          "name": "stdout",
          "text": [
            "My name is Biplob Kumar Sutradhar\n",
            "Biplob Kumar Sutradhar is my name\n",
            "My name is Biplob Kumar Sutradhar and my ID is 203-15-3923\n"
          ]
        }
      ]
    },
    {
      "cell_type": "code",
      "source": [
        "# Numerial oparater\n",
        "a = 1\n",
        "b = 2\n",
        "\n",
        "print('a / a =', a/b)\n",
        "print('a * b =', a*b)\n",
        "print('a + b =',  a+b)\n",
        "print('a ** a =', a**a)\n",
        "print('a // b =', a // b)\n",
        "print('a % b =', a % b)\n"
      ],
      "metadata": {
        "colab": {
          "base_uri": "https://localhost:8080/"
        },
        "id": "pFE5xjCDW7tI",
        "outputId": "6416999c-2ff2-479e-9dc0-b81dfd7ff7c8"
      },
      "execution_count": null,
      "outputs": [
        {
          "output_type": "stream",
          "name": "stdout",
          "text": [
            "a / a = 0.5\n",
            "a * b = 2\n",
            "a + b = 3\n",
            "a ** a = 1\n",
            "a // b = 0\n",
            "a % b = 1\n"
          ]
        }
      ]
    },
    {
      "cell_type": "code",
      "source": [
        "# Data type\n",
        "print(type(0))\n",
        "print(type(0.0))\n",
        "print(type('A'))\n",
        "print(type(True))\n",
        "print(type({'1': 1}))\n",
        "print(type((0, 0)))\n",
        "print(type())"
      ],
      "metadata": {
        "colab": {
          "base_uri": "https://localhost:8080/"
        },
        "id": "bPOtEMi6ZLnR",
        "outputId": "181d4cd8-4a7f-476a-bea7-3b184ac7af73"
      },
      "execution_count": null,
      "outputs": [
        {
          "output_type": "stream",
          "name": "stdout",
          "text": [
            "<class 'int'>\n",
            "<class 'float'>\n",
            "<class 'str'>\n",
            "<class 'bool'>\n",
            "<class 'dict'>\n",
            "<class 'tuple'>\n"
          ]
        }
      ]
    },
    {
      "cell_type": "code",
      "source": [
        "# Result Grade Latter\n",
        "\n",
        "def spgaResult():\n",
        "  while True:\n",
        "    try:\n",
        "      inputS = float(input(\"Enter your sgpa: \"))\n",
        "      break\n",
        "    except:\n",
        "      pass\n",
        "\n",
        "  if inputS> 0.0 and inputS<= 2.00:\n",
        "    outString = 'D x Pass'\n",
        "  elif inputS> 2.0 and inputS<= 2.25:\n",
        "    outString = 'C x Bellow Average'\n",
        "  elif inputS> 2.25 and inputS<= 2.50:\n",
        "    outString = 'C+ x Average'\n",
        "  elif inputS> 2.50 and inputS<= 2.75:\n",
        "    outString = 'B- x Above Average'\n",
        "  elif inputS> 2.75 and inputS<= 3.0:\n",
        "    outString = 'B x Satisfactory'\n",
        "  elif inputS> 3.0 and inputS<= 3.25:\n",
        "    outString = 'B+ x Good'\n",
        "  elif inputS> 3.25 and inputS<= 3.50:\n",
        "    outString = 'A- x Very Good'\n",
        "  elif inputS> 3.50 and inputS<= 3.75:\n",
        "    outString = 'A x Excellent'\n",
        "  elif inputS> 3.75 and inputS<= 4.0:\n",
        "    outString = 'A+ x Outstanding'\n",
        "  else:\n",
        "    outString = 'F x Fall'\n",
        "\n",
        "  return outString.replace('x', str(inputS))\n",
        "\n",
        "while True:\n",
        "  print(spgaResult())\n",
        "\n",
        "\n"
      ],
      "metadata": {
        "id": "BUKtt5xGaQsK"
      },
      "execution_count": null,
      "outputs": []
    },
    {
      "cell_type": "code",
      "source": [
        "# find max on 3 number\n",
        "def max2(a, b):\n",
        "    up = a+b+abs(a-b)\n",
        "    down = 2\n",
        "    return up//down\n",
        "    \n",
        "inputS = input()\n",
        "\n",
        "a, b, c = inputS.split(' ')\n",
        "a, b, c = int(a), int(b), int(c)\n",
        "\n",
        "print(max2(max2(a, b), c), 'eh o maior')"
      ],
      "metadata": {
        "colab": {
          "base_uri": "https://localhost:8080/"
        },
        "id": "gC_cpPwNgbwe",
        "outputId": "0817887c-184d-43b0-f63e-b9cb23ca49c6"
      },
      "execution_count": null,
      "outputs": [
        {
          "output_type": "stream",
          "name": "stdout",
          "text": [
            "1 3 2\n",
            "3 eh o maior\n"
          ]
        }
      ]
    },
    {
      "cell_type": "code",
      "source": [
        "# km/l\n",
        "\n",
        "a = int(input())\n",
        "b = float(input())\n",
        "\n",
        "print(f'{(a/b):.3f} km/l')"
      ],
      "metadata": {
        "colab": {
          "base_uri": "https://localhost:8080/"
        },
        "id": "tv9v4yEwlwIJ",
        "outputId": "e313fa8d-e7cc-4d61-be23-ce15c7b301cc"
      },
      "execution_count": null,
      "outputs": [
        {
          "output_type": "stream",
          "name": "stdout",
          "text": [
            "500\n",
            "35.0\n",
            "14.286 km/l\n"
          ]
        }
      ]
    },
    {
      "cell_type": "code",
      "source": [
        ""
      ],
      "metadata": {
        "id": "y9urUEz9nIi7"
      },
      "execution_count": null,
      "outputs": []
    }
  ]
}